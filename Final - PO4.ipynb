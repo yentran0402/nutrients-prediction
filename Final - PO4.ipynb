{
 "cells": [
  {
   "cell_type": "code",
   "execution_count": 1,
   "metadata": {},
   "outputs": [],
   "source": [
    "import pandas as pd\n",
    "import seaborn as sns\n",
    "import matplotlib.pyplot as plt\n",
    "import numpy as np\n",
    "from tqdm import tqdm\n",
    "import scipy.stats as stats\n",
    "import warnings # supress warnings\n",
    "warnings.filterwarnings('ignore')"
   ]
  },
  {
   "cell_type": "code",
   "execution_count": 2,
   "metadata": {},
   "outputs": [
    {
     "data": {
      "text/html": [
       "<div>\n",
       "<style scoped>\n",
       "    .dataframe tbody tr th:only-of-type {\n",
       "        vertical-align: middle;\n",
       "    }\n",
       "\n",
       "    .dataframe tbody tr th {\n",
       "        vertical-align: top;\n",
       "    }\n",
       "\n",
       "    .dataframe thead th {\n",
       "        text-align: right;\n",
       "    }\n",
       "</style>\n",
       "<table border=\"1\" class=\"dataframe\">\n",
       "  <thead>\n",
       "    <tr style=\"text-align: right;\">\n",
       "      <th></th>\n",
       "      <th>Datum</th>\n",
       "      <th>O2 [mg/l]</th>\n",
       "      <th>T [°C]</th>\n",
       "      <th>LF [µS/cm]</th>\n",
       "      <th>pH [--]</th>\n",
       "      <th>OPO4-P [mg/l]</th>\n",
       "      <th>Chlorophyll</th>\n",
       "      <th>Abfluss [m³/s]</th>\n",
       "    </tr>\n",
       "  </thead>\n",
       "  <tbody>\n",
       "    <tr>\n",
       "      <th>0</th>\n",
       "      <td>2016-01-01 05:45:00</td>\n",
       "      <td>12.40</td>\n",
       "      <td>4.6</td>\n",
       "      <td>491.0</td>\n",
       "      <td>8.0</td>\n",
       "      <td>0.05</td>\n",
       "      <td>NaN</td>\n",
       "      <td>549.0</td>\n",
       "    </tr>\n",
       "    <tr>\n",
       "      <th>1</th>\n",
       "      <td>2016-01-01 06:00:00</td>\n",
       "      <td>12.40</td>\n",
       "      <td>4.6</td>\n",
       "      <td>491.0</td>\n",
       "      <td>8.0</td>\n",
       "      <td>0.05</td>\n",
       "      <td>NaN</td>\n",
       "      <td>549.0</td>\n",
       "    </tr>\n",
       "    <tr>\n",
       "      <th>2</th>\n",
       "      <td>2016-01-01 06:15:00</td>\n",
       "      <td>12.40</td>\n",
       "      <td>4.6</td>\n",
       "      <td>491.0</td>\n",
       "      <td>8.0</td>\n",
       "      <td>0.05</td>\n",
       "      <td>NaN</td>\n",
       "      <td>549.0</td>\n",
       "    </tr>\n",
       "    <tr>\n",
       "      <th>3</th>\n",
       "      <td>2016-01-01 06:30:00</td>\n",
       "      <td>12.40</td>\n",
       "      <td>4.7</td>\n",
       "      <td>491.0</td>\n",
       "      <td>8.0</td>\n",
       "      <td>0.05</td>\n",
       "      <td>NaN</td>\n",
       "      <td>538.0</td>\n",
       "    </tr>\n",
       "    <tr>\n",
       "      <th>4</th>\n",
       "      <td>2016-01-01 06:45:00</td>\n",
       "      <td>12.40</td>\n",
       "      <td>4.7</td>\n",
       "      <td>491.0</td>\n",
       "      <td>8.0</td>\n",
       "      <td>0.05</td>\n",
       "      <td>NaN</td>\n",
       "      <td>538.0</td>\n",
       "    </tr>\n",
       "    <tr>\n",
       "      <th>...</th>\n",
       "      <td>...</td>\n",
       "      <td>...</td>\n",
       "      <td>...</td>\n",
       "      <td>...</td>\n",
       "      <td>...</td>\n",
       "      <td>...</td>\n",
       "      <td>...</td>\n",
       "      <td>...</td>\n",
       "    </tr>\n",
       "    <tr>\n",
       "      <th>175269</th>\n",
       "      <td>2020-12-30 23:00:00</td>\n",
       "      <td>11.88</td>\n",
       "      <td>4.2</td>\n",
       "      <td>499.6</td>\n",
       "      <td>8.2</td>\n",
       "      <td>0.01</td>\n",
       "      <td>NaN</td>\n",
       "      <td>733.0</td>\n",
       "    </tr>\n",
       "    <tr>\n",
       "      <th>175270</th>\n",
       "      <td>2020-12-30 23:15:00</td>\n",
       "      <td>11.89</td>\n",
       "      <td>4.2</td>\n",
       "      <td>499.4</td>\n",
       "      <td>8.2</td>\n",
       "      <td>0.01</td>\n",
       "      <td>NaN</td>\n",
       "      <td>733.0</td>\n",
       "    </tr>\n",
       "    <tr>\n",
       "      <th>175271</th>\n",
       "      <td>2020-12-30 23:30:00</td>\n",
       "      <td>11.90</td>\n",
       "      <td>4.2</td>\n",
       "      <td>499.2</td>\n",
       "      <td>8.2</td>\n",
       "      <td>0.01</td>\n",
       "      <td>NaN</td>\n",
       "      <td>733.0</td>\n",
       "    </tr>\n",
       "    <tr>\n",
       "      <th>175272</th>\n",
       "      <td>2020-12-30 23:45:00</td>\n",
       "      <td>11.90</td>\n",
       "      <td>4.2</td>\n",
       "      <td>499.3</td>\n",
       "      <td>8.2</td>\n",
       "      <td>0.01</td>\n",
       "      <td>NaN</td>\n",
       "      <td>733.0</td>\n",
       "    </tr>\n",
       "    <tr>\n",
       "      <th>175273</th>\n",
       "      <td>2020-12-31 00:00:00</td>\n",
       "      <td>11.92</td>\n",
       "      <td>4.2</td>\n",
       "      <td>499.4</td>\n",
       "      <td>8.2</td>\n",
       "      <td>0.01</td>\n",
       "      <td>NaN</td>\n",
       "      <td>742.0</td>\n",
       "    </tr>\n",
       "  </tbody>\n",
       "</table>\n",
       "<p>175274 rows × 8 columns</p>\n",
       "</div>"
      ],
      "text/plain": [
       "                      Datum  O2 [mg/l]  T [°C]  LF [µS/cm]  pH [--]  \\\n",
       "0       2016-01-01 05:45:00      12.40     4.6       491.0      8.0   \n",
       "1       2016-01-01 06:00:00      12.40     4.6       491.0      8.0   \n",
       "2       2016-01-01 06:15:00      12.40     4.6       491.0      8.0   \n",
       "3       2016-01-01 06:30:00      12.40     4.7       491.0      8.0   \n",
       "4       2016-01-01 06:45:00      12.40     4.7       491.0      8.0   \n",
       "...                     ...        ...     ...         ...      ...   \n",
       "175269  2020-12-30 23:00:00      11.88     4.2       499.6      8.2   \n",
       "175270  2020-12-30 23:15:00      11.89     4.2       499.4      8.2   \n",
       "175271  2020-12-30 23:30:00      11.90     4.2       499.2      8.2   \n",
       "175272  2020-12-30 23:45:00      11.90     4.2       499.3      8.2   \n",
       "175273  2020-12-31 00:00:00      11.92     4.2       499.4      8.2   \n",
       "\n",
       "        OPO4-P [mg/l]  Chlorophyll  Abfluss [m³/s]  \n",
       "0                0.05          NaN           549.0  \n",
       "1                0.05          NaN           549.0  \n",
       "2                0.05          NaN           549.0  \n",
       "3                0.05          NaN           538.0  \n",
       "4                0.05          NaN           538.0  \n",
       "...               ...          ...             ...  \n",
       "175269           0.01          NaN           733.0  \n",
       "175270           0.01          NaN           733.0  \n",
       "175271           0.01          NaN           733.0  \n",
       "175272           0.01          NaN           733.0  \n",
       "175273           0.01          NaN           742.0  \n",
       "\n",
       "[175274 rows x 8 columns]"
      ]
     },
     "execution_count": 2,
     "metadata": {},
     "output_type": "execute_result"
    }
   ],
   "source": [
    "df = pd.read_csv('Data-Jochenstein.csv',header=0, index_col=0)\n",
    "del df['NH4-N [mg/l]']\n",
    "del df['NO3-N [mg/l]']\n",
    "df"
   ]
  },
  {
   "cell_type": "code",
   "execution_count": 3,
   "metadata": {},
   "outputs": [
    {
     "name": "stdout",
     "output_type": "stream",
     "text": [
      "Datum                  0\n",
      "O2 [mg/l]          20462\n",
      "T [°C]             21387\n",
      "LF [µS/cm]         22207\n",
      "pH [--]            22221\n",
      "OPO4-P [mg/l]      22265\n",
      "Chlorophyll       150747\n",
      "Abfluss [m³/s]        58\n",
      "dtype: int64\n"
     ]
    }
   ],
   "source": [
    "print(df.isna().sum())"
   ]
  },
  {
   "cell_type": "code",
   "execution_count": 4,
   "metadata": {},
   "outputs": [
    {
     "data": {
      "text/html": [
       "<div>\n",
       "<style scoped>\n",
       "    .dataframe tbody tr th:only-of-type {\n",
       "        vertical-align: middle;\n",
       "    }\n",
       "\n",
       "    .dataframe tbody tr th {\n",
       "        vertical-align: top;\n",
       "    }\n",
       "\n",
       "    .dataframe thead th {\n",
       "        text-align: right;\n",
       "    }\n",
       "</style>\n",
       "<table border=\"1\" class=\"dataframe\">\n",
       "  <thead>\n",
       "    <tr style=\"text-align: right;\">\n",
       "      <th></th>\n",
       "      <th>Datum</th>\n",
       "      <th>O2 [mg/l]</th>\n",
       "      <th>T [°C]</th>\n",
       "      <th>LF [µS/cm]</th>\n",
       "      <th>pH [--]</th>\n",
       "      <th>OPO4-P [mg/l]</th>\n",
       "      <th>Chlorophyll</th>\n",
       "      <th>Abfluss [m³/s]</th>\n",
       "    </tr>\n",
       "  </thead>\n",
       "  <tbody>\n",
       "    <tr>\n",
       "      <th>0</th>\n",
       "      <td>2016-01-01 05:45:00</td>\n",
       "      <td>12.40</td>\n",
       "      <td>4.6</td>\n",
       "      <td>491.0</td>\n",
       "      <td>8.0</td>\n",
       "      <td>0.05</td>\n",
       "      <td>NaN</td>\n",
       "      <td>549.0</td>\n",
       "    </tr>\n",
       "    <tr>\n",
       "      <th>1</th>\n",
       "      <td>2016-01-01 06:00:00</td>\n",
       "      <td>12.40</td>\n",
       "      <td>4.6</td>\n",
       "      <td>491.0</td>\n",
       "      <td>8.0</td>\n",
       "      <td>0.05</td>\n",
       "      <td>NaN</td>\n",
       "      <td>549.0</td>\n",
       "    </tr>\n",
       "    <tr>\n",
       "      <th>2</th>\n",
       "      <td>2016-01-01 06:15:00</td>\n",
       "      <td>12.40</td>\n",
       "      <td>4.6</td>\n",
       "      <td>491.0</td>\n",
       "      <td>8.0</td>\n",
       "      <td>0.05</td>\n",
       "      <td>NaN</td>\n",
       "      <td>549.0</td>\n",
       "    </tr>\n",
       "    <tr>\n",
       "      <th>3</th>\n",
       "      <td>2016-01-01 06:30:00</td>\n",
       "      <td>12.40</td>\n",
       "      <td>4.7</td>\n",
       "      <td>491.0</td>\n",
       "      <td>8.0</td>\n",
       "      <td>0.05</td>\n",
       "      <td>NaN</td>\n",
       "      <td>538.0</td>\n",
       "    </tr>\n",
       "    <tr>\n",
       "      <th>4</th>\n",
       "      <td>2016-01-01 06:45:00</td>\n",
       "      <td>12.40</td>\n",
       "      <td>4.7</td>\n",
       "      <td>491.0</td>\n",
       "      <td>8.0</td>\n",
       "      <td>0.05</td>\n",
       "      <td>NaN</td>\n",
       "      <td>538.0</td>\n",
       "    </tr>\n",
       "    <tr>\n",
       "      <th>...</th>\n",
       "      <td>...</td>\n",
       "      <td>...</td>\n",
       "      <td>...</td>\n",
       "      <td>...</td>\n",
       "      <td>...</td>\n",
       "      <td>...</td>\n",
       "      <td>...</td>\n",
       "      <td>...</td>\n",
       "    </tr>\n",
       "    <tr>\n",
       "      <th>175269</th>\n",
       "      <td>2020-12-30 23:00:00</td>\n",
       "      <td>11.88</td>\n",
       "      <td>4.2</td>\n",
       "      <td>499.6</td>\n",
       "      <td>8.2</td>\n",
       "      <td>0.01</td>\n",
       "      <td>NaN</td>\n",
       "      <td>733.0</td>\n",
       "    </tr>\n",
       "    <tr>\n",
       "      <th>175270</th>\n",
       "      <td>2020-12-30 23:15:00</td>\n",
       "      <td>11.89</td>\n",
       "      <td>4.2</td>\n",
       "      <td>499.4</td>\n",
       "      <td>8.2</td>\n",
       "      <td>0.01</td>\n",
       "      <td>NaN</td>\n",
       "      <td>733.0</td>\n",
       "    </tr>\n",
       "    <tr>\n",
       "      <th>175271</th>\n",
       "      <td>2020-12-30 23:30:00</td>\n",
       "      <td>11.90</td>\n",
       "      <td>4.2</td>\n",
       "      <td>499.2</td>\n",
       "      <td>8.2</td>\n",
       "      <td>0.01</td>\n",
       "      <td>NaN</td>\n",
       "      <td>733.0</td>\n",
       "    </tr>\n",
       "    <tr>\n",
       "      <th>175272</th>\n",
       "      <td>2020-12-30 23:45:00</td>\n",
       "      <td>11.90</td>\n",
       "      <td>4.2</td>\n",
       "      <td>499.3</td>\n",
       "      <td>8.2</td>\n",
       "      <td>0.01</td>\n",
       "      <td>NaN</td>\n",
       "      <td>733.0</td>\n",
       "    </tr>\n",
       "    <tr>\n",
       "      <th>175273</th>\n",
       "      <td>2020-12-31 00:00:00</td>\n",
       "      <td>11.92</td>\n",
       "      <td>4.2</td>\n",
       "      <td>499.4</td>\n",
       "      <td>8.2</td>\n",
       "      <td>0.01</td>\n",
       "      <td>NaN</td>\n",
       "      <td>742.0</td>\n",
       "    </tr>\n",
       "  </tbody>\n",
       "</table>\n",
       "<p>153009 rows × 8 columns</p>\n",
       "</div>"
      ],
      "text/plain": [
       "                      Datum  O2 [mg/l]  T [°C]  LF [µS/cm]  pH [--]  \\\n",
       "0       2016-01-01 05:45:00      12.40     4.6       491.0      8.0   \n",
       "1       2016-01-01 06:00:00      12.40     4.6       491.0      8.0   \n",
       "2       2016-01-01 06:15:00      12.40     4.6       491.0      8.0   \n",
       "3       2016-01-01 06:30:00      12.40     4.7       491.0      8.0   \n",
       "4       2016-01-01 06:45:00      12.40     4.7       491.0      8.0   \n",
       "...                     ...        ...     ...         ...      ...   \n",
       "175269  2020-12-30 23:00:00      11.88     4.2       499.6      8.2   \n",
       "175270  2020-12-30 23:15:00      11.89     4.2       499.4      8.2   \n",
       "175271  2020-12-30 23:30:00      11.90     4.2       499.2      8.2   \n",
       "175272  2020-12-30 23:45:00      11.90     4.2       499.3      8.2   \n",
       "175273  2020-12-31 00:00:00      11.92     4.2       499.4      8.2   \n",
       "\n",
       "        OPO4-P [mg/l]  Chlorophyll  Abfluss [m³/s]  \n",
       "0                0.05          NaN           549.0  \n",
       "1                0.05          NaN           549.0  \n",
       "2                0.05          NaN           549.0  \n",
       "3                0.05          NaN           538.0  \n",
       "4                0.05          NaN           538.0  \n",
       "...               ...          ...             ...  \n",
       "175269           0.01          NaN           733.0  \n",
       "175270           0.01          NaN           733.0  \n",
       "175271           0.01          NaN           733.0  \n",
       "175272           0.01          NaN           733.0  \n",
       "175273           0.01          NaN           742.0  \n",
       "\n",
       "[153009 rows x 8 columns]"
      ]
     },
     "execution_count": 4,
     "metadata": {},
     "output_type": "execute_result"
    }
   ],
   "source": [
    "df = df[df['OPO4-P [mg/l]'].notna()]\n",
    "df"
   ]
  },
  {
   "cell_type": "code",
   "execution_count": 5,
   "metadata": {},
   "outputs": [],
   "source": [
    "df = df.interpolate(method='linear')"
   ]
  },
  {
   "cell_type": "code",
   "execution_count": 6,
   "metadata": {},
   "outputs": [
    {
     "data": {
      "text/html": [
       "<div>\n",
       "<style scoped>\n",
       "    .dataframe tbody tr th:only-of-type {\n",
       "        vertical-align: middle;\n",
       "    }\n",
       "\n",
       "    .dataframe tbody tr th {\n",
       "        vertical-align: top;\n",
       "    }\n",
       "\n",
       "    .dataframe thead th {\n",
       "        text-align: right;\n",
       "    }\n",
       "</style>\n",
       "<table border=\"1\" class=\"dataframe\">\n",
       "  <thead>\n",
       "    <tr style=\"text-align: right;\">\n",
       "      <th></th>\n",
       "      <th>Datum</th>\n",
       "      <th>O2 [mg/l]</th>\n",
       "      <th>T [°C]</th>\n",
       "      <th>LF [µS/cm]</th>\n",
       "      <th>pH [--]</th>\n",
       "      <th>OPO4-P [mg/l]</th>\n",
       "      <th>Chlorophyll</th>\n",
       "      <th>Abfluss [m³/s]</th>\n",
       "    </tr>\n",
       "  </thead>\n",
       "  <tbody>\n",
       "    <tr>\n",
       "      <th>5737</th>\n",
       "      <td>2016-03-01 00:00:00</td>\n",
       "      <td>11.90</td>\n",
       "      <td>5.4</td>\n",
       "      <td>434.0</td>\n",
       "      <td>8.1</td>\n",
       "      <td>0.05</td>\n",
       "      <td>4.0</td>\n",
       "      <td>1280.0</td>\n",
       "    </tr>\n",
       "    <tr>\n",
       "      <th>5738</th>\n",
       "      <td>2016-03-01 00:15:00</td>\n",
       "      <td>11.90</td>\n",
       "      <td>5.4</td>\n",
       "      <td>434.0</td>\n",
       "      <td>8.1</td>\n",
       "      <td>0.05</td>\n",
       "      <td>4.0</td>\n",
       "      <td>1280.0</td>\n",
       "    </tr>\n",
       "    <tr>\n",
       "      <th>5739</th>\n",
       "      <td>2016-03-01 00:30:00</td>\n",
       "      <td>11.90</td>\n",
       "      <td>5.4</td>\n",
       "      <td>434.0</td>\n",
       "      <td>8.1</td>\n",
       "      <td>0.05</td>\n",
       "      <td>4.0</td>\n",
       "      <td>1290.0</td>\n",
       "    </tr>\n",
       "    <tr>\n",
       "      <th>5740</th>\n",
       "      <td>2016-03-01 00:45:00</td>\n",
       "      <td>11.90</td>\n",
       "      <td>5.4</td>\n",
       "      <td>434.0</td>\n",
       "      <td>8.1</td>\n",
       "      <td>0.05</td>\n",
       "      <td>4.0</td>\n",
       "      <td>1290.0</td>\n",
       "    </tr>\n",
       "    <tr>\n",
       "      <th>5741</th>\n",
       "      <td>2016-03-01 01:00:00</td>\n",
       "      <td>11.90</td>\n",
       "      <td>5.3</td>\n",
       "      <td>434.0</td>\n",
       "      <td>8.1</td>\n",
       "      <td>0.05</td>\n",
       "      <td>4.0</td>\n",
       "      <td>1300.0</td>\n",
       "    </tr>\n",
       "    <tr>\n",
       "      <th>...</th>\n",
       "      <td>...</td>\n",
       "      <td>...</td>\n",
       "      <td>...</td>\n",
       "      <td>...</td>\n",
       "      <td>...</td>\n",
       "      <td>...</td>\n",
       "      <td>...</td>\n",
       "      <td>...</td>\n",
       "    </tr>\n",
       "    <tr>\n",
       "      <th>175269</th>\n",
       "      <td>2020-12-30 23:00:00</td>\n",
       "      <td>11.88</td>\n",
       "      <td>4.2</td>\n",
       "      <td>499.6</td>\n",
       "      <td>8.2</td>\n",
       "      <td>0.01</td>\n",
       "      <td>2.3</td>\n",
       "      <td>733.0</td>\n",
       "    </tr>\n",
       "    <tr>\n",
       "      <th>175270</th>\n",
       "      <td>2020-12-30 23:15:00</td>\n",
       "      <td>11.89</td>\n",
       "      <td>4.2</td>\n",
       "      <td>499.4</td>\n",
       "      <td>8.2</td>\n",
       "      <td>0.01</td>\n",
       "      <td>2.3</td>\n",
       "      <td>733.0</td>\n",
       "    </tr>\n",
       "    <tr>\n",
       "      <th>175271</th>\n",
       "      <td>2020-12-30 23:30:00</td>\n",
       "      <td>11.90</td>\n",
       "      <td>4.2</td>\n",
       "      <td>499.2</td>\n",
       "      <td>8.2</td>\n",
       "      <td>0.01</td>\n",
       "      <td>2.3</td>\n",
       "      <td>733.0</td>\n",
       "    </tr>\n",
       "    <tr>\n",
       "      <th>175272</th>\n",
       "      <td>2020-12-30 23:45:00</td>\n",
       "      <td>11.90</td>\n",
       "      <td>4.2</td>\n",
       "      <td>499.3</td>\n",
       "      <td>8.2</td>\n",
       "      <td>0.01</td>\n",
       "      <td>2.3</td>\n",
       "      <td>733.0</td>\n",
       "    </tr>\n",
       "    <tr>\n",
       "      <th>175273</th>\n",
       "      <td>2020-12-31 00:00:00</td>\n",
       "      <td>11.92</td>\n",
       "      <td>4.2</td>\n",
       "      <td>499.4</td>\n",
       "      <td>8.2</td>\n",
       "      <td>0.01</td>\n",
       "      <td>2.3</td>\n",
       "      <td>742.0</td>\n",
       "    </tr>\n",
       "  </tbody>\n",
       "</table>\n",
       "<p>147642 rows × 8 columns</p>\n",
       "</div>"
      ],
      "text/plain": [
       "                      Datum  O2 [mg/l]  T [°C]  LF [µS/cm]  pH [--]  \\\n",
       "5737    2016-03-01 00:00:00      11.90     5.4       434.0      8.1   \n",
       "5738    2016-03-01 00:15:00      11.90     5.4       434.0      8.1   \n",
       "5739    2016-03-01 00:30:00      11.90     5.4       434.0      8.1   \n",
       "5740    2016-03-01 00:45:00      11.90     5.4       434.0      8.1   \n",
       "5741    2016-03-01 01:00:00      11.90     5.3       434.0      8.1   \n",
       "...                     ...        ...     ...         ...      ...   \n",
       "175269  2020-12-30 23:00:00      11.88     4.2       499.6      8.2   \n",
       "175270  2020-12-30 23:15:00      11.89     4.2       499.4      8.2   \n",
       "175271  2020-12-30 23:30:00      11.90     4.2       499.2      8.2   \n",
       "175272  2020-12-30 23:45:00      11.90     4.2       499.3      8.2   \n",
       "175273  2020-12-31 00:00:00      11.92     4.2       499.4      8.2   \n",
       "\n",
       "        OPO4-P [mg/l]  Chlorophyll  Abfluss [m³/s]  \n",
       "5737             0.05          4.0          1280.0  \n",
       "5738             0.05          4.0          1280.0  \n",
       "5739             0.05          4.0          1290.0  \n",
       "5740             0.05          4.0          1290.0  \n",
       "5741             0.05          4.0          1300.0  \n",
       "...               ...          ...             ...  \n",
       "175269           0.01          2.3           733.0  \n",
       "175270           0.01          2.3           733.0  \n",
       "175271           0.01          2.3           733.0  \n",
       "175272           0.01          2.3           733.0  \n",
       "175273           0.01          2.3           742.0  \n",
       "\n",
       "[147642 rows x 8 columns]"
      ]
     },
     "execution_count": 6,
     "metadata": {},
     "output_type": "execute_result"
    }
   ],
   "source": [
    "df.dropna(inplace=True)\n",
    "df"
   ]
  },
  {
   "cell_type": "code",
   "execution_count": 7,
   "metadata": {},
   "outputs": [],
   "source": [
    "def encode(data, col, max_val):\n",
    "    data[col + '_sin'] = np.sin(2 * np.pi * data[col]/max_val)\n",
    "    data[col + '_cos'] = np.cos(2 * np.pi * data[col]/max_val)\n",
    "    return data"
   ]
  },
  {
   "cell_type": "code",
   "execution_count": 8,
   "metadata": {},
   "outputs": [
    {
     "data": {
      "text/html": [
       "<div>\n",
       "<style scoped>\n",
       "    .dataframe tbody tr th:only-of-type {\n",
       "        vertical-align: middle;\n",
       "    }\n",
       "\n",
       "    .dataframe tbody tr th {\n",
       "        vertical-align: top;\n",
       "    }\n",
       "\n",
       "    .dataframe thead th {\n",
       "        text-align: right;\n",
       "    }\n",
       "</style>\n",
       "<table border=\"1\" class=\"dataframe\">\n",
       "  <thead>\n",
       "    <tr style=\"text-align: right;\">\n",
       "      <th></th>\n",
       "      <th>Datum</th>\n",
       "      <th>O2 [mg/l]</th>\n",
       "      <th>T [°C]</th>\n",
       "      <th>LF [µS/cm]</th>\n",
       "      <th>pH [--]</th>\n",
       "      <th>OPO4-P [mg/l]</th>\n",
       "      <th>Chlorophyll</th>\n",
       "      <th>Abfluss [m³/s]</th>\n",
       "      <th>month</th>\n",
       "      <th>month_sin</th>\n",
       "      <th>month_cos</th>\n",
       "      <th>day</th>\n",
       "      <th>day_sin</th>\n",
       "      <th>day_cos</th>\n",
       "      <th>hour</th>\n",
       "      <th>hour_sin</th>\n",
       "      <th>hour_cos</th>\n",
       "    </tr>\n",
       "  </thead>\n",
       "  <tbody>\n",
       "    <tr>\n",
       "      <th>5737</th>\n",
       "      <td>2016-03-01 00:00:00</td>\n",
       "      <td>11.90</td>\n",
       "      <td>5.4</td>\n",
       "      <td>434.0</td>\n",
       "      <td>8.1</td>\n",
       "      <td>0.05</td>\n",
       "      <td>4.0</td>\n",
       "      <td>1280.0</td>\n",
       "      <td>3</td>\n",
       "      <td>1.000000e+00</td>\n",
       "      <td>6.123234e-17</td>\n",
       "      <td>1</td>\n",
       "      <td>0.017213</td>\n",
       "      <td>0.999852</td>\n",
       "      <td>0</td>\n",
       "      <td>0.000000e+00</td>\n",
       "      <td>1.000000</td>\n",
       "    </tr>\n",
       "    <tr>\n",
       "      <th>5738</th>\n",
       "      <td>2016-03-01 00:15:00</td>\n",
       "      <td>11.90</td>\n",
       "      <td>5.4</td>\n",
       "      <td>434.0</td>\n",
       "      <td>8.1</td>\n",
       "      <td>0.05</td>\n",
       "      <td>4.0</td>\n",
       "      <td>1280.0</td>\n",
       "      <td>3</td>\n",
       "      <td>1.000000e+00</td>\n",
       "      <td>6.123234e-17</td>\n",
       "      <td>1</td>\n",
       "      <td>0.017213</td>\n",
       "      <td>0.999852</td>\n",
       "      <td>0</td>\n",
       "      <td>0.000000e+00</td>\n",
       "      <td>1.000000</td>\n",
       "    </tr>\n",
       "    <tr>\n",
       "      <th>5739</th>\n",
       "      <td>2016-03-01 00:30:00</td>\n",
       "      <td>11.90</td>\n",
       "      <td>5.4</td>\n",
       "      <td>434.0</td>\n",
       "      <td>8.1</td>\n",
       "      <td>0.05</td>\n",
       "      <td>4.0</td>\n",
       "      <td>1290.0</td>\n",
       "      <td>3</td>\n",
       "      <td>1.000000e+00</td>\n",
       "      <td>6.123234e-17</td>\n",
       "      <td>1</td>\n",
       "      <td>0.017213</td>\n",
       "      <td>0.999852</td>\n",
       "      <td>0</td>\n",
       "      <td>0.000000e+00</td>\n",
       "      <td>1.000000</td>\n",
       "    </tr>\n",
       "    <tr>\n",
       "      <th>5740</th>\n",
       "      <td>2016-03-01 00:45:00</td>\n",
       "      <td>11.90</td>\n",
       "      <td>5.4</td>\n",
       "      <td>434.0</td>\n",
       "      <td>8.1</td>\n",
       "      <td>0.05</td>\n",
       "      <td>4.0</td>\n",
       "      <td>1290.0</td>\n",
       "      <td>3</td>\n",
       "      <td>1.000000e+00</td>\n",
       "      <td>6.123234e-17</td>\n",
       "      <td>1</td>\n",
       "      <td>0.017213</td>\n",
       "      <td>0.999852</td>\n",
       "      <td>0</td>\n",
       "      <td>0.000000e+00</td>\n",
       "      <td>1.000000</td>\n",
       "    </tr>\n",
       "    <tr>\n",
       "      <th>5741</th>\n",
       "      <td>2016-03-01 01:00:00</td>\n",
       "      <td>11.90</td>\n",
       "      <td>5.3</td>\n",
       "      <td>434.0</td>\n",
       "      <td>8.1</td>\n",
       "      <td>0.05</td>\n",
       "      <td>4.0</td>\n",
       "      <td>1300.0</td>\n",
       "      <td>3</td>\n",
       "      <td>1.000000e+00</td>\n",
       "      <td>6.123234e-17</td>\n",
       "      <td>1</td>\n",
       "      <td>0.017213</td>\n",
       "      <td>0.999852</td>\n",
       "      <td>1</td>\n",
       "      <td>2.697968e-01</td>\n",
       "      <td>0.962917</td>\n",
       "    </tr>\n",
       "    <tr>\n",
       "      <th>...</th>\n",
       "      <td>...</td>\n",
       "      <td>...</td>\n",
       "      <td>...</td>\n",
       "      <td>...</td>\n",
       "      <td>...</td>\n",
       "      <td>...</td>\n",
       "      <td>...</td>\n",
       "      <td>...</td>\n",
       "      <td>...</td>\n",
       "      <td>...</td>\n",
       "      <td>...</td>\n",
       "      <td>...</td>\n",
       "      <td>...</td>\n",
       "      <td>...</td>\n",
       "      <td>...</td>\n",
       "      <td>...</td>\n",
       "      <td>...</td>\n",
       "    </tr>\n",
       "    <tr>\n",
       "      <th>175269</th>\n",
       "      <td>2020-12-30 23:00:00</td>\n",
       "      <td>11.88</td>\n",
       "      <td>4.2</td>\n",
       "      <td>499.6</td>\n",
       "      <td>8.2</td>\n",
       "      <td>0.01</td>\n",
       "      <td>2.3</td>\n",
       "      <td>733.0</td>\n",
       "      <td>12</td>\n",
       "      <td>-2.449294e-16</td>\n",
       "      <td>1.000000e+00</td>\n",
       "      <td>30</td>\n",
       "      <td>0.493776</td>\n",
       "      <td>0.869589</td>\n",
       "      <td>23</td>\n",
       "      <td>-2.449294e-16</td>\n",
       "      <td>1.000000</td>\n",
       "    </tr>\n",
       "    <tr>\n",
       "      <th>175270</th>\n",
       "      <td>2020-12-30 23:15:00</td>\n",
       "      <td>11.89</td>\n",
       "      <td>4.2</td>\n",
       "      <td>499.4</td>\n",
       "      <td>8.2</td>\n",
       "      <td>0.01</td>\n",
       "      <td>2.3</td>\n",
       "      <td>733.0</td>\n",
       "      <td>12</td>\n",
       "      <td>-2.449294e-16</td>\n",
       "      <td>1.000000e+00</td>\n",
       "      <td>30</td>\n",
       "      <td>0.493776</td>\n",
       "      <td>0.869589</td>\n",
       "      <td>23</td>\n",
       "      <td>-2.449294e-16</td>\n",
       "      <td>1.000000</td>\n",
       "    </tr>\n",
       "    <tr>\n",
       "      <th>175271</th>\n",
       "      <td>2020-12-30 23:30:00</td>\n",
       "      <td>11.90</td>\n",
       "      <td>4.2</td>\n",
       "      <td>499.2</td>\n",
       "      <td>8.2</td>\n",
       "      <td>0.01</td>\n",
       "      <td>2.3</td>\n",
       "      <td>733.0</td>\n",
       "      <td>12</td>\n",
       "      <td>-2.449294e-16</td>\n",
       "      <td>1.000000e+00</td>\n",
       "      <td>30</td>\n",
       "      <td>0.493776</td>\n",
       "      <td>0.869589</td>\n",
       "      <td>23</td>\n",
       "      <td>-2.449294e-16</td>\n",
       "      <td>1.000000</td>\n",
       "    </tr>\n",
       "    <tr>\n",
       "      <th>175272</th>\n",
       "      <td>2020-12-30 23:45:00</td>\n",
       "      <td>11.90</td>\n",
       "      <td>4.2</td>\n",
       "      <td>499.3</td>\n",
       "      <td>8.2</td>\n",
       "      <td>0.01</td>\n",
       "      <td>2.3</td>\n",
       "      <td>733.0</td>\n",
       "      <td>12</td>\n",
       "      <td>-2.449294e-16</td>\n",
       "      <td>1.000000e+00</td>\n",
       "      <td>30</td>\n",
       "      <td>0.493776</td>\n",
       "      <td>0.869589</td>\n",
       "      <td>23</td>\n",
       "      <td>-2.449294e-16</td>\n",
       "      <td>1.000000</td>\n",
       "    </tr>\n",
       "    <tr>\n",
       "      <th>175273</th>\n",
       "      <td>2020-12-31 00:00:00</td>\n",
       "      <td>11.92</td>\n",
       "      <td>4.2</td>\n",
       "      <td>499.4</td>\n",
       "      <td>8.2</td>\n",
       "      <td>0.01</td>\n",
       "      <td>2.3</td>\n",
       "      <td>742.0</td>\n",
       "      <td>12</td>\n",
       "      <td>-2.449294e-16</td>\n",
       "      <td>1.000000e+00</td>\n",
       "      <td>31</td>\n",
       "      <td>0.508671</td>\n",
       "      <td>0.860961</td>\n",
       "      <td>0</td>\n",
       "      <td>0.000000e+00</td>\n",
       "      <td>1.000000</td>\n",
       "    </tr>\n",
       "  </tbody>\n",
       "</table>\n",
       "<p>147642 rows × 17 columns</p>\n",
       "</div>"
      ],
      "text/plain": [
       "                      Datum  O2 [mg/l]  T [°C]  LF [µS/cm]  pH [--]  \\\n",
       "5737    2016-03-01 00:00:00      11.90     5.4       434.0      8.1   \n",
       "5738    2016-03-01 00:15:00      11.90     5.4       434.0      8.1   \n",
       "5739    2016-03-01 00:30:00      11.90     5.4       434.0      8.1   \n",
       "5740    2016-03-01 00:45:00      11.90     5.4       434.0      8.1   \n",
       "5741    2016-03-01 01:00:00      11.90     5.3       434.0      8.1   \n",
       "...                     ...        ...     ...         ...      ...   \n",
       "175269  2020-12-30 23:00:00      11.88     4.2       499.6      8.2   \n",
       "175270  2020-12-30 23:15:00      11.89     4.2       499.4      8.2   \n",
       "175271  2020-12-30 23:30:00      11.90     4.2       499.2      8.2   \n",
       "175272  2020-12-30 23:45:00      11.90     4.2       499.3      8.2   \n",
       "175273  2020-12-31 00:00:00      11.92     4.2       499.4      8.2   \n",
       "\n",
       "        OPO4-P [mg/l]  Chlorophyll  Abfluss [m³/s]  month     month_sin  \\\n",
       "5737             0.05          4.0          1280.0      3  1.000000e+00   \n",
       "5738             0.05          4.0          1280.0      3  1.000000e+00   \n",
       "5739             0.05          4.0          1290.0      3  1.000000e+00   \n",
       "5740             0.05          4.0          1290.0      3  1.000000e+00   \n",
       "5741             0.05          4.0          1300.0      3  1.000000e+00   \n",
       "...               ...          ...             ...    ...           ...   \n",
       "175269           0.01          2.3           733.0     12 -2.449294e-16   \n",
       "175270           0.01          2.3           733.0     12 -2.449294e-16   \n",
       "175271           0.01          2.3           733.0     12 -2.449294e-16   \n",
       "175272           0.01          2.3           733.0     12 -2.449294e-16   \n",
       "175273           0.01          2.3           742.0     12 -2.449294e-16   \n",
       "\n",
       "           month_cos  day   day_sin   day_cos  hour      hour_sin  hour_cos  \n",
       "5737    6.123234e-17    1  0.017213  0.999852     0  0.000000e+00  1.000000  \n",
       "5738    6.123234e-17    1  0.017213  0.999852     0  0.000000e+00  1.000000  \n",
       "5739    6.123234e-17    1  0.017213  0.999852     0  0.000000e+00  1.000000  \n",
       "5740    6.123234e-17    1  0.017213  0.999852     0  0.000000e+00  1.000000  \n",
       "5741    6.123234e-17    1  0.017213  0.999852     1  2.697968e-01  0.962917  \n",
       "...              ...  ...       ...       ...   ...           ...       ...  \n",
       "175269  1.000000e+00   30  0.493776  0.869589    23 -2.449294e-16  1.000000  \n",
       "175270  1.000000e+00   30  0.493776  0.869589    23 -2.449294e-16  1.000000  \n",
       "175271  1.000000e+00   30  0.493776  0.869589    23 -2.449294e-16  1.000000  \n",
       "175272  1.000000e+00   30  0.493776  0.869589    23 -2.449294e-16  1.000000  \n",
       "175273  1.000000e+00   31  0.508671  0.860961     0  0.000000e+00  1.000000  \n",
       "\n",
       "[147642 rows x 17 columns]"
      ]
     },
     "execution_count": 8,
     "metadata": {},
     "output_type": "execute_result"
    }
   ],
   "source": [
    "df['month'] = pd.DatetimeIndex(df['Datum']).month\n",
    "df = encode(df, 'month', 12)\n",
    "\n",
    "df['day'] = pd.DatetimeIndex(df['Datum']).day\n",
    "df = encode(df, 'day', 365)\n",
    "\n",
    "df['hour'] = pd.DatetimeIndex(df['Datum']).hour\n",
    "df = encode(df, 'hour', 23)\n",
    "\n",
    "df"
   ]
  },
  {
   "cell_type": "code",
   "execution_count": 9,
   "metadata": {},
   "outputs": [],
   "source": [
    "columns = ['Chlorophyll','Abfluss [m³/s]']\n",
    "df[columns] = df[columns].apply(np.log)"
   ]
  },
  {
   "cell_type": "code",
   "execution_count": 10,
   "metadata": {},
   "outputs": [],
   "source": [
    "# train-test 80-20 split\n",
    "from sklearn.model_selection import train_test_split\n",
    "\n",
    "df_train, df_test = train_test_split(df, \n",
    "                                     train_size = 0.8, \n",
    "                                     test_size = 0.2, \n",
    "                                     random_state = 100)"
   ]
  },
  {
   "cell_type": "code",
   "execution_count": 11,
   "metadata": {},
   "outputs": [],
   "source": [
    "X_train = df_train[['O2 [mg/l]','T [°C]','LF [µS/cm]','pH [--]','Chlorophyll','Abfluss [m³/s]','month_sin','month_cos','day_sin','day_cos','hour_sin','hour_cos']]\n",
    "y_train = df_train[['OPO4-P [mg/l]']]\n",
    "\n",
    "X_test = df_test[['O2 [mg/l]','T [°C]','LF [µS/cm]','pH [--]','Chlorophyll','Abfluss [m³/s]','month_sin','month_cos','day_sin','day_cos','hour_sin','hour_cos']]\n",
    "y_test = df_test[['OPO4-P [mg/l]']]"
   ]
  },
  {
   "cell_type": "code",
   "execution_count": 12,
   "metadata": {},
   "outputs": [
    {
     "name": "stdout",
     "output_type": "stream",
     "text": [
      "0.011064413541320752 0.5447309887398979\n"
     ]
    }
   ],
   "source": [
    "from sklearn.linear_model import LinearRegression\n",
    "LR = LinearRegression()\n",
    "from sklearn.metrics import mean_squared_error\n",
    "from sklearn.model_selection import cross_validate\n",
    "from sklearn.model_selection import cross_val_score\n",
    "scores = cross_validate(LR, X_train, y_train, scoring=['neg_mean_squared_error','r2'], cv=5,n_jobs=-1)\n",
    "score = scores['test_neg_mean_squared_error'].mean()\n",
    "r2 = scores['test_r2'].mean()\n",
    "rmse = np.sqrt(abs(score))\n",
    "print(rmse, r2)"
   ]
  },
  {
   "cell_type": "code",
   "execution_count": 13,
   "metadata": {},
   "outputs": [
    {
     "name": "stdout",
     "output_type": "stream",
     "text": [
      "0.005625602567487951 0.8823011841486622\n"
     ]
    }
   ],
   "source": [
    "from sklearn.model_selection import cross_validate\n",
    "from sklearn.ensemble import RandomForestRegressor\n",
    "rf = RandomForestRegressor(n_jobs=-1, max_depth = 10)\n",
    "scores = cross_validate(rf, X_train, y_train, scoring=['neg_mean_squared_error','r2'], cv=5,n_jobs=-1)\n",
    "score = scores['test_neg_mean_squared_error'].mean()\n",
    "r2 = scores['test_r2'].mean()\n",
    "rmse = np.sqrt(abs(score))\n",
    "print(rmse, r2)"
   ]
  },
  {
   "cell_type": "code",
   "execution_count": 14,
   "metadata": {},
   "outputs": [
    {
     "name": "stdout",
     "output_type": "stream",
     "text": [
      "Optimal number of features : 11\n"
     ]
    }
   ],
   "source": [
    "from sklearn.feature_selection import RFECV\n",
    "forest = RandomForestRegressor(n_jobs=-1, max_depth = 10)\n",
    "min_features_to_select = 1  # Minimum number of features to consider\n",
    "rfecv = RFECV(\n",
    "    estimator=forest,\n",
    "    step=1,\n",
    "    cv=5,\n",
    "    scoring='neg_mean_squared_error',\n",
    "    min_features_to_select=min_features_to_select,\n",
    ")\n",
    "rfecv.fit(X_train, y_train)\n",
    "print(\"Optimal number of features : %d\" % rfecv.n_features_)"
   ]
  },
  {
   "cell_type": "code",
   "execution_count": 15,
   "metadata": {},
   "outputs": [
    {
     "data": {
      "text/plain": [
       "['O2 [mg/l]',\n",
       " 'T [°C]',\n",
       " 'LF [µS/cm]',\n",
       " 'pH [--]',\n",
       " 'Chlorophyll',\n",
       " 'Abfluss [m³/s]',\n",
       " 'month_sin',\n",
       " 'month_cos',\n",
       " 'day_sin',\n",
       " 'day_cos',\n",
       " 'hour_sin']"
      ]
     },
     "execution_count": 15,
     "metadata": {},
     "output_type": "execute_result"
    }
   ],
   "source": [
    "features = [f for f,s in zip(X_train.columns, rfecv.support_) if s]\n",
    "features"
   ]
  },
  {
   "cell_type": "code",
   "execution_count": 11,
   "metadata": {},
   "outputs": [
    {
     "data": {
      "text/plain": [
       "OPO4-P [mg/l]     1.000000\n",
       "LF [µS/cm]        0.473616\n",
       "mnth_cos          0.459856\n",
       "O2 [mg/l]         0.258772\n",
       "mth               0.180661\n",
       "hr                0.017036\n",
       "minute_cos        0.002936\n",
       "minute_sin        0.001702\n",
       "minute           -0.003921\n",
       "hr_cos           -0.005640\n",
       "d                -0.011441\n",
       "d_cos            -0.016637\n",
       "d_sin            -0.021704\n",
       "hr_sin           -0.033610\n",
       "Abfluss [m³/s]   -0.067871\n",
       "pH [--]          -0.265250\n",
       "mnth_sin         -0.400374\n",
       "T [°C]           -0.441251\n",
       "Chlorophyll      -0.517147\n",
       "Name: OPO4-P [mg/l], dtype: float64"
      ]
     },
     "execution_count": 11,
     "metadata": {},
     "output_type": "execute_result"
    },
    {
     "data": {
      "image/png": "[encoded data removed]",
      "text/plain": [
       "<Figure size 720x720 with 2 Axes>"
      ]
     },
     "metadata": {
      "needs_background": "light"
     },
     "output_type": "display_data"
    }
   ],
   "source": [
    "X_NAMES1 = ['O2 [mg/l]','T [°C]','LF [µS/cm]','pH [--]','NH4-N [mg/l]','OPO4-P [mg/l]','Chlorophyll','Abfluss [m³/s]']\n",
    "Y_NAMES1 = ['OPO4-P [mg/l]']\n",
    "\n",
    "corr = df_train.corr()\n",
    "corr = corr.loc[:, Y_NAMES1]\n",
    "plt.figure(figsize=(10,10))\n",
    "sns.heatmap(corr, annot = True)\n",
    "corr['OPO4-P [mg/l]'].sort_values(ascending=False)"
   ]
  },
  {
   "cell_type": "code",
   "execution_count": 13,
   "metadata": {},
   "outputs": [],
   "source": [
    "from sklearn.model_selection import cross_validate\n",
    "from sklearn.linear_model import LinearRegression\n",
    "\n",
    "LR = LinearRegression()"
   ]
  },
  {
   "cell_type": "code",
   "execution_count": 13,
   "metadata": {},
   "outputs": [
    {
     "name": "stdout",
     "output_type": "stream",
     "text": [
      "0.01403576487899553 0.26736921423282844\n"
     ]
    }
   ],
   "source": [
    "X_train = df_train[['Chlorophyll']]\n",
    "y_train = df_train[['OPO4-P [mg/l]']]\n",
    "\n",
    "from sklearn.model_selection import cross_validate\n",
    "scores = cross_validate(LR, X_train, y_train, scoring=['neg_mean_squared_error','r2'], cv=5,n_jobs=-1)\n",
    "score = scores['test_neg_mean_squared_error'].mean()\n",
    "r21 = scores['test_r2'].mean()\n",
    "rmse1 = np.sqrt(abs(score))\n",
    "print(rmse1, r21)"
   ]
  },
  {
   "cell_type": "code",
   "execution_count": 15,
   "metadata": {},
   "outputs": [
    {
     "data": {
      "text/plain": [
       "{'fit_time': array([0.11249375, 0.12811971, 0.07198215, 0.06798482, 0.07398534]),\n",
       " 'score_time': array([0.01562905, 0.01562905, 0.01562905, 0.01562905, 0.01562905]),\n",
       " 'test_neg_mean_squared_error': array([-0.00019861, -0.00019581, -0.00019632, -0.00019558, -0.00019868]),\n",
       " 'test_r2': array([0.2643742 , 0.26989331, 0.26708988, 0.26933411, 0.26615458])}"
      ]
     },
     "execution_count": 15,
     "metadata": {},
     "output_type": "execute_result"
    }
   ],
   "source": [
    "scores"
   ]
  },
  {
   "cell_type": "code",
   "execution_count": 14,
   "metadata": {},
   "outputs": [
    {
     "name": "stdout",
     "output_type": "stream",
     "text": [
      "0.012568605274380145 0.41252936143236163\n"
     ]
    }
   ],
   "source": [
    "X_train = df_train[['Chlorophyll','LF [µS/cm]']]\n",
    "y_train = df_train[['OPO4-P [mg/l]']]\n",
    "\n",
    "from sklearn.model_selection import cross_val_score\n",
    "scores = cross_validate(LR, X_train, y_train, scoring=['neg_mean_squared_error','r2'], cv=5,n_jobs=-1)\n",
    "score = scores['test_neg_mean_squared_error'].mean()\n",
    "r22 = scores['test_r2'].mean()\n",
    "rmse2 = np.sqrt(abs(score))\n",
    "print(rmse2, r22)"
   ]
  },
  {
   "cell_type": "code",
   "execution_count": 15,
   "metadata": {},
   "outputs": [
    {
     "name": "stdout",
     "output_type": "stream",
     "text": [
      "0.01250995307023201 0.4180015005781894\n"
     ]
    }
   ],
   "source": [
    "X_train = df_train[['Chlorophyll','LF [µS/cm]','mnth_cos']]\n",
    "y_train = df_train[['OPO4-P [mg/l]']]\n",
    "\n",
    "from sklearn.model_selection import cross_val_score\n",
    "scores = cross_validate(LR, X_train, y_train, scoring=['neg_mean_squared_error','r2'], cv=5,n_jobs=-1)\n",
    "score = scores['test_neg_mean_squared_error'].mean()\n",
    "r23 = scores['test_r2'].mean()\n",
    "rmse3 = np.sqrt(abs(score))\n",
    "print(rmse3, r23)"
   ]
  },
  {
   "cell_type": "code",
   "execution_count": 15,
   "metadata": {},
   "outputs": [
    {
     "name": "stdout",
     "output_type": "stream",
     "text": [
      "0.01251081760018595 0.4179209567428085\n"
     ]
    }
   ],
   "source": [
    "X_train = df_train[['Chlorophyll','LF [µS/cm]','T [°C]']]\n",
    "y_train = df_train[['OPO4-P [mg/l]']]\n",
    "\n",
    "from sklearn.model_selection import cross_val_score\n",
    "scores = cross_validate(LR, X_train, y_train, scoring=['neg_mean_squared_error','r2'], cv=5,n_jobs=-1)\n",
    "score = scores['test_neg_mean_squared_error'].mean()\n",
    "r24 = scores['test_r2'].mean()\n",
    "rmse4 = np.sqrt(abs(score))\n",
    "print(rmse4, r24)"
   ]
  },
  {
   "cell_type": "code",
   "execution_count": 17,
   "metadata": {},
   "outputs": [
    {
     "name": "stdout",
     "output_type": "stream",
     "text": [
      "0.012219888088991465 0.4446754247100767\n"
     ]
    }
   ],
   "source": [
    "X_train = df_train[['Chlorophyll','LF [µS/cm]','mnth_cos','T [°C]','mnth_sin']]\n",
    "y_train = df_train[['OPO4-P [mg/l]']]\n",
    "\n",
    "from sklearn.model_selection import cross_val_score\n",
    "scores = cross_validate(LR, X_train, y_train, scoring=['neg_mean_squared_error','r2'], cv=5,n_jobs=-1)\n",
    "score = scores['test_neg_mean_squared_error'].mean()\n",
    "r25 = scores['test_r2'].mean()\n",
    "rmse5 = np.sqrt(abs(score))\n",
    "print(rmse5, r25)"
   ]
  },
  {
   "cell_type": "code",
   "execution_count": 16,
   "metadata": {},
   "outputs": [
    {
     "name": "stdout",
     "output_type": "stream",
     "text": [
      "0.012038405280857324 0.4610502805835295\n"
     ]
    }
   ],
   "source": [
    "X_train = df_train[['Chlorophyll','LF [µS/cm]','T [°C]','pH [--]']]\n",
    "y_train = df_train[['OPO4-P [mg/l]']]\n",
    "\n",
    "from sklearn.model_selection import cross_val_score\n",
    "scores = cross_validate(LR, X_train, y_train, scoring=['neg_mean_squared_error','r2'], cv=5,n_jobs=-1)\n",
    "score = scores['test_neg_mean_squared_error'].mean()\n",
    "r26 = scores['test_r2'].mean()\n",
    "rmse6 = np.sqrt(abs(score))\n",
    "print(rmse6, r26)"
   ]
  },
  {
   "cell_type": "code",
   "execution_count": 17,
   "metadata": {},
   "outputs": [
    {
     "name": "stdout",
     "output_type": "stream",
     "text": [
      "0.01200558147765531 0.4639829052312258\n"
     ]
    }
   ],
   "source": [
    "X_train = df_train[['Chlorophyll','LF [µS/cm]','T [°C]','pH [--]','O2 [mg/l]']]\n",
    "y_train = df_train[['OPO4-P [mg/l]']]\n",
    "\n",
    "from sklearn.model_selection import cross_val_score\n",
    "scores = cross_validate(LR, X_train, y_train, scoring=['neg_mean_squared_error','r2'], cv=5,n_jobs=-1)\n",
    "score = scores['test_neg_mean_squared_error'].mean()\n",
    "r27 = scores['test_r2'].mean()\n",
    "rmse7 = np.sqrt(abs(score))\n",
    "print(rmse7, r27)"
   ]
  },
  {
   "cell_type": "code",
   "execution_count": 18,
   "metadata": {},
   "outputs": [
    {
     "name": "stdout",
     "output_type": "stream",
     "text": [
      "0.011731627991071025 0.4881677388360536\n"
     ]
    }
   ],
   "source": [
    "X_train = df_train[['Chlorophyll','LF [µS/cm]','T [°C]','pH [--]','O2 [mg/l]','Abfluss [m³/s]']]\n",
    "y_train = df_train[['OPO4-P [mg/l]']]\n",
    "\n",
    "from sklearn.model_selection import cross_val_score\n",
    "scores = cross_validate(LR, X_train, y_train, scoring=['neg_mean_squared_error','r2'], cv=5,n_jobs=-1)\n",
    "score = scores['test_neg_mean_squared_error'].mean()\n",
    "r28 = scores['test_r2'].mean()\n",
    "rmse8 = np.sqrt(abs(score))\n",
    "print(rmse8, r28)"
   ]
  },
  {
   "cell_type": "code",
   "execution_count": 21,
   "metadata": {},
   "outputs": [
    {
     "name": "stdout",
     "output_type": "stream",
     "text": [
      "0.011098410487770037 0.5419280654911409\n"
     ]
    }
   ],
   "source": [
    "X_train = df_train[['Chlorophyll','LF [µS/cm]','mnth_cos','T [°C]','mnth_sin','pH [--]','O2 [mg/l]','Abfluss [m³/s]','hr_sin']]\n",
    "y_train = df_train[['OPO4-P [mg/l]']]\n",
    "\n",
    "from sklearn.model_selection import cross_val_score\n",
    "scores = cross_validate(LR, X_train, y_train, scoring=['neg_mean_squared_error','r2'], cv=5,n_jobs=-1)\n",
    "score = scores['test_neg_mean_squared_error'].mean()\n",
    "r29 = scores['test_r2'].mean()\n",
    "rmse9 = np.sqrt(abs(score))\n",
    "print(rmse9, r29)"
   ]
  },
  {
   "cell_type": "code",
   "execution_count": 22,
   "metadata": {},
   "outputs": [
    {
     "name": "stdout",
     "output_type": "stream",
     "text": [
      "0.01109680612683337 0.5420604741318951\n"
     ]
    }
   ],
   "source": [
    "X_train = df_train[['Chlorophyll','LF [µS/cm]','mnth_cos','T [°C]','mnth_sin','pH [--]','O2 [mg/l]','Abfluss [m³/s]','hr_sin','d_sin']]\n",
    "y_train = df_train[['OPO4-P [mg/l]']]\n",
    "\n",
    "from sklearn.model_selection import cross_val_score\n",
    "scores = cross_validate(LR, X_train, y_train, scoring=['neg_mean_squared_error','r2'], cv=5,n_jobs=-1)\n",
    "score = scores['test_neg_mean_squared_error'].mean()\n",
    "r210 = scores['test_r2'].mean()\n",
    "rmse10 = np.sqrt(abs(score))\n",
    "print(rmse10, r210)"
   ]
  },
  {
   "cell_type": "code",
   "execution_count": 23,
   "metadata": {},
   "outputs": [
    {
     "name": "stdout",
     "output_type": "stream",
     "text": [
      "0.011093853442321281 0.5423041239740242\n"
     ]
    }
   ],
   "source": [
    "X_train = df_train[['Chlorophyll','LF [µS/cm]','mnth_cos','T [°C]','mnth_sin','pH [--]','O2 [mg/l]','Abfluss [m³/s]','hr_sin','d_sin','d_cos']]\n",
    "y_train = df_train[['OPO4-P [mg/l]']]\n",
    "\n",
    "from sklearn.model_selection import cross_val_score\n",
    "scores = cross_validate(LR, X_train, y_train, scoring=['neg_mean_squared_error','r2'], cv=5,n_jobs=-1)\n",
    "score = scores['test_neg_mean_squared_error'].mean()\n",
    "r211 = scores['test_r2'].mean()\n",
    "rmse11 = np.sqrt(abs(score))\n",
    "print(rmse11, r211)"
   ]
  },
  {
   "cell_type": "code",
   "execution_count": 24,
   "metadata": {},
   "outputs": [
    {
     "name": "stdout",
     "output_type": "stream",
     "text": [
      "0.011093937647676527 0.5422971950515671\n"
     ]
    }
   ],
   "source": [
    "X_train = df_train[['Chlorophyll','LF [µS/cm]','mnth_cos','T [°C]','mnth_sin','pH [--]','O2 [mg/l]','Abfluss [m³/s]','hr_sin','d_sin','d_cos','hr_cos']]\n",
    "y_train = df_train[['OPO4-P [mg/l]']]\n",
    "\n",
    "from sklearn.model_selection import cross_val_score\n",
    "scores = cross_validate(LR, X_train, y_train, scoring=['neg_mean_squared_error','r2'], cv=5,n_jobs=-1)\n",
    "score = scores['test_neg_mean_squared_error'].mean()\n",
    "r212 = scores['test_r2'].mean()\n",
    "rmse12 = np.sqrt(abs(score))\n",
    "print(rmse12, r212)"
   ]
  },
  {
   "cell_type": "code",
   "execution_count": 25,
   "metadata": {},
   "outputs": [
    {
     "name": "stdout",
     "output_type": "stream",
     "text": [
      "0.011094021846812045 0.5422902593801988\n"
     ]
    }
   ],
   "source": [
    "X_train = df_train[['O2 [mg/l]','T [°C]','LF [µS/cm]','pH [--]','Chlorophyll','Abfluss [m³/s]','mnth_sin','mnth_cos','d_sin','d_cos','hr_cos','hr_sin','minute_sin']]\n",
    "y_train = df_train[['OPO4-P [mg/l]']]\n",
    "\n",
    "from sklearn.model_selection import cross_val_score\n",
    "scores = cross_validate(LR, X_train, y_train, scoring=['neg_mean_squared_error','r2'], cv=5,n_jobs=-1)\n",
    "score = scores['test_neg_mean_squared_error'].mean()\n",
    "r213 = scores['test_r2'].mean()\n",
    "rmse13 = np.sqrt(abs(score))\n",
    "print(rmse13, r213)"
   ]
  },
  {
   "cell_type": "code",
   "execution_count": 26,
   "metadata": {},
   "outputs": [
    {
     "name": "stdout",
     "output_type": "stream",
     "text": [
      "0.011094199795990498 0.542275591180535\n"
     ]
    }
   ],
   "source": [
    "X_train = df_train[['O2 [mg/l]','T [°C]','LF [µS/cm]','pH [--]','Chlorophyll','Abfluss [m³/s]','mnth_sin','mnth_cos','d_sin','d_cos','hr_cos','hr_sin','minute_sin','minute_cos']]\n",
    "y_train = df_train[['OPO4-P [mg/l]']]\n",
    "\n",
    "from sklearn.model_selection import cross_val_score\n",
    "scores = cross_validate(LR, X_train, y_train, scoring=['neg_mean_squared_error','r2'], cv=5,n_jobs=-1)\n",
    "score = scores['test_neg_mean_squared_error'].mean()\n",
    "r214 = scores['test_r2'].mean()\n",
    "rmse14 = np.sqrt(abs(score))\n",
    "print(rmse14, r214)"
   ]
  },
  {
   "cell_type": "code",
   "execution_count": 27,
   "metadata": {},
   "outputs": [
    {
     "data": {
      "text/plain": [
       "[<matplotlib.lines.Line2D at 0x20aeebd9490>]"
      ]
     },
     "execution_count": 27,
     "metadata": {},
     "output_type": "execute_result"
    },
    {
     "data": {
      "image/png": "[encoded data removed]",
      "text/plain": [
       "<Figure size 792x360 with 1 Axes>"
      ]
     },
     "metadata": {
      "needs_background": "light"
     },
     "output_type": "display_data"
    }
   ],
   "source": [
    "plt.figure(figsize=(11,5))\n",
    "plt.xticks(range(1,15))\n",
    "plt.xlabel('Number of variables')\n",
    "plt.ylabel('RMSE')\n",
    "plt.plot([1,2,3,4,5,6,7,8,9,10,11,12,13,14],[rmse1, rmse2, rmse3, rmse4, rmse5, rmse6, rmse7, rmse8,rmse9,rmse10,rmse11,rmse12,rmse13,rmse14])"
   ]
  },
  {
   "cell_type": "code",
   "execution_count": 28,
   "metadata": {},
   "outputs": [
    {
     "data": {
      "text/plain": [
       "[<matplotlib.lines.Line2D at 0x20aec26c670>]"
      ]
     },
     "execution_count": 28,
     "metadata": {},
     "output_type": "execute_result"
    },
    {
     "data": {
      "image/png": "[encoded data removed]",
      "text/plain": [
       "<Figure size 792x360 with 1 Axes>"
      ]
     },
     "metadata": {
      "needs_background": "light"
     },
     "output_type": "display_data"
    }
   ],
   "source": [
    "plt.figure(figsize=(11,5))\n",
    "plt.xticks(range(1,15))\n",
    "plt.xlabel('Number of variables')\n",
    "plt.ylabel('R Squared')\n",
    "plt.plot([1,2,3,4,5,6,7,8,9,10,11,12,13,14],[r21,r22,r23,r24,r25,r26,r27,r28,r29,r210,r211,r212,r213,r214])"
   ]
  },
  {
   "cell_type": "code",
   "execution_count": 14,
   "metadata": {},
   "outputs": [
    {
     "name": "stdout",
     "output_type": "stream",
     "text": [
      "0.011103077097648881 0.5415973910198981\n"
     ]
    }
   ],
   "source": [
    "from sklearn.metrics import r2_score\n",
    "from sklearn.metrics import mean_squared_error\n",
    "\n",
    "linear = LinearRegression()\n",
    "best_LR = linear.fit(X_train,y_train)\n",
    "y_LR = best_LR.predict(X_test)\n",
    "RMSE_LR = np.sqrt(mean_squared_error(y_test,y_LR))\n",
    "r2 = r2_score(y_test,y_LR)\n",
    "print(RMSE_LR,r2)"
   ]
  },
  {
   "cell_type": "code",
   "execution_count": 30,
   "metadata": {},
   "outputs": [],
   "source": [
    "X = df[['O2 [mg/l]','T [°C]','LF [µS/cm]','pH [--]','Chlorophyll','Abfluss [m³/s]','mnth_sin','mnth_cos','d_sin','d_cos','hr_sin','hr_cos','minute_sin','minute_cos']]\n",
    "y = df[['OPO4-P [mg/l]']]"
   ]
  },
  {
   "cell_type": "code",
   "execution_count": 31,
   "metadata": {},
   "outputs": [
    {
     "name": "stdout",
     "output_type": "stream",
     "text": [
      "Column: 0, Selected False, Rank: 2.000\n",
      "Column: 1, Selected True, Rank: 1.000\n",
      "Column: 2, Selected True, Rank: 1.000\n",
      "Column: 3, Selected True, Rank: 1.000\n",
      "Column: 4, Selected True, Rank: 1.000\n",
      "Column: 5, Selected True, Rank: 1.000\n",
      "Column: 6, Selected True, Rank: 1.000\n",
      "Column: 7, Selected False, Rank: 3.000\n",
      "Column: 8, Selected False, Rank: 4.000\n",
      "Column: 9, Selected False, Rank: 5.000\n",
      "Column: 10, Selected False, Rank: 6.000\n",
      "Column: 11, Selected False, Rank: 7.000\n",
      "Column: 12, Selected False, Rank: 9.000\n",
      "Column: 13, Selected False, Rank: 8.000\n"
     ]
    }
   ],
   "source": [
    "from sklearn.ensemble import RandomForestRegressor\n",
    "forest = RandomForestRegressor(n_jobs=-1, max_depth = 10)\n",
    "forest.fit(X, y)\n",
    "\n",
    "from sklearn.feature_selection import RFE\n",
    "\n",
    "# define RFE\n",
    "rfe = RFE(forest, n_features_to_select=6)\n",
    "\n",
    "# fit RFE\n",
    "rfe.fit(X, y)\n",
    "\n",
    "# summarize all features\n",
    "for i in range(X.shape[1]):\n",
    "    print('Column: %d, Selected %s, Rank: %.3f' % (i, rfe.support_[i], rfe.ranking_[i]))"
   ]
  },
  {
   "cell_type": "code",
   "execution_count": 15,
   "metadata": {},
   "outputs": [],
   "source": [
    "from sklearn.ensemble import RandomForestRegressor\n",
    "rf = RandomForestRegressor(n_jobs=-1, max_depth = 10)"
   ]
  },
  {
   "cell_type": "code",
   "execution_count": 12,
   "metadata": {},
   "outputs": [
    {
     "name": "stdout",
     "output_type": "stream",
     "text": [
      "0.012503840888450506 0.41856537515519754\n"
     ]
    }
   ],
   "source": [
    "X_train = df_train[['Chlorophyll']]\n",
    "y_train = df_train[['OPO4-P [mg/l]']]\n",
    "\n",
    "from sklearn.model_selection import cross_validate\n",
    "from sklearn.model_selection import cross_val_score\n",
    "scores = cross_validate(rf, X_train, y_train, scoring=['neg_mean_squared_error','r2'], cv=5,n_jobs=-1)\n",
    "score = scores['test_neg_mean_squared_error'].mean()\n",
    "r2 = scores['test_r2'].mean()\n",
    "rmse = np.sqrt(abs(score))\n",
    "print(rmse, r2)"
   ]
  },
  {
   "cell_type": "code",
   "execution_count": 13,
   "metadata": {},
   "outputs": [
    {
     "name": "stdout",
     "output_type": "stream",
     "text": [
      "0.009770757877820373 0.6449618669505127\n"
     ]
    }
   ],
   "source": [
    "X_train = df_train[['Chlorophyll','LF [µS/cm]']]\n",
    "y_train = df_train[['OPO4-P [mg/l]']]\n",
    "from sklearn.model_selection import cross_val_score\n",
    "scores = cross_validate(rf, X_train, y_train, scoring=['neg_mean_squared_error','r2'], cv=5,n_jobs=-1)\n",
    "score = scores['test_neg_mean_squared_error'].mean()\n",
    "r2 = scores['test_r2'].mean()\n",
    "rmse = np.sqrt(abs(score))\n",
    "print(rmse, r2)"
   ]
  },
  {
   "cell_type": "code",
   "execution_count": 14,
   "metadata": {},
   "outputs": [
    {
     "name": "stdout",
     "output_type": "stream",
     "text": [
      "0.00817743596591461 0.7513067074945358\n"
     ]
    }
   ],
   "source": [
    "X_train = df_train[['Chlorophyll','LF [µS/cm]','T [°C]']]\n",
    "y_train = df_train[['OPO4-P [mg/l]']]\n",
    "from sklearn.model_selection import cross_val_score\n",
    "scores = cross_validate(rf, X_train, y_train, scoring=['neg_mean_squared_error','r2'], cv=5,n_jobs=-1)\n",
    "score = scores['test_neg_mean_squared_error'].mean()\n",
    "r2 = scores['test_r2'].mean()\n",
    "rmse = np.sqrt(abs(score))\n",
    "print(rmse, r2)"
   ]
  },
  {
   "cell_type": "code",
   "execution_count": 15,
   "metadata": {},
   "outputs": [
    {
     "name": "stdout",
     "output_type": "stream",
     "text": [
      "0.007151356086492259 0.8098067912652505\n"
     ]
    }
   ],
   "source": [
    "X_train = df_train[['Chlorophyll','LF [µS/cm]','T [°C]','pH [--]']]\n",
    "y_train = df_train[['OPO4-P [mg/l]']]\n",
    "from sklearn.model_selection import cross_val_score\n",
    "scores = cross_validate(rf, X_train, y_train, scoring=['neg_mean_squared_error','r2'], cv=5,n_jobs=-1)\n",
    "score = scores['test_neg_mean_squared_error'].mean()\n",
    "r2 = scores['test_r2'].mean()\n",
    "rmse = np.sqrt(abs(score))\n",
    "print(rmse, r2)"
   ]
  },
  {
   "cell_type": "code",
   "execution_count": 16,
   "metadata": {},
   "outputs": [
    {
     "name": "stdout",
     "output_type": "stream",
     "text": [
      "0.006805540135105323 0.8277649591449515\n"
     ]
    }
   ],
   "source": [
    "X_train = df_train[['Chlorophyll','LF [µS/cm]','T [°C]','pH [--]','O2 [mg/l]']]\n",
    "y_train = df_train[['OPO4-P [mg/l]']]\n",
    "from sklearn.model_selection import cross_val_score\n",
    "scores = cross_validate(rf, X_train, y_train, scoring=['neg_mean_squared_error','r2'], cv=5,n_jobs=-1)\n",
    "score = scores['test_neg_mean_squared_error'].mean()\n",
    "r2 = scores['test_r2'].mean()\n",
    "rmse = np.sqrt(abs(score))\n",
    "print(rmse, r2)"
   ]
  },
  {
   "cell_type": "code",
   "execution_count": 17,
   "metadata": {},
   "outputs": [
    {
     "name": "stdout",
     "output_type": "stream",
     "text": [
      "0.006337782911930264 0.8506261073085408\n"
     ]
    }
   ],
   "source": [
    "X_train = df_train[['Chlorophyll','LF [µS/cm]','T [°C]','pH [--]','O2 [mg/l]','Abfluss [m³/s]']]\n",
    "y_train = df_train[['OPO4-P [mg/l]']]\n",
    "from sklearn.model_selection import cross_val_score\n",
    "scores = cross_validate(rf, X_train, y_train, scoring=['neg_mean_squared_error','r2'], cv=5,n_jobs=-1)\n",
    "score = scores['test_neg_mean_squared_error'].mean()\n",
    "r2 = scores['test_r2'].mean()\n",
    "rmse = np.sqrt(abs(score))\n",
    "print(rmse, r2)"
   ]
  },
  {
   "cell_type": "code",
   "execution_count": 16,
   "metadata": {},
   "outputs": [],
   "source": [
    "from sklearn.model_selection import GridSearchCV\n",
    "# Create the parameter grid  \n",
    "param_grid = {\n",
    "    'bootstrap': [True, False],\n",
    "    'max_depth': [10, 20, 30],\n",
    "    'min_samples_leaf': [6, 12, 20],\n",
    "    'min_samples_split': [6, 12, 20]\n",
    "}"
   ]
  },
  {
   "cell_type": "code",
   "execution_count": 17,
   "metadata": {},
   "outputs": [
    {
     "name": "stdout",
     "output_type": "stream",
     "text": [
      "Fitting 5 folds for each of 54 candidates, totalling 270 fits\n"
     ]
    },
    {
     "name": "stderr",
     "output_type": "stream",
     "text": [
      "[Parallel(n_jobs=-1)]: Using backend LokyBackend with 8 concurrent workers.\n",
      "[Parallel(n_jobs=-1)]: Done  25 tasks      | elapsed: 14.1min\n",
      "[Parallel(n_jobs=-1)]: Done 146 tasks      | elapsed: 38.5min\n",
      "[Parallel(n_jobs=-1)]: Done 270 out of 270 | elapsed: 70.1min finished\n"
     ]
    },
    {
     "data": {
      "text/plain": [
       "{'bootstrap': True,\n",
       " 'max_depth': 30,\n",
       " 'min_samples_leaf': 6,\n",
       " 'min_samples_split': 6}"
      ]
     },
     "execution_count": 17,
     "metadata": {},
     "output_type": "execute_result"
    }
   ],
   "source": [
    "forest = RandomForestRegressor(n_jobs=-1, max_depth = 10)\n",
    "# Instantiate the grid search model\n",
    "grid_search = GridSearchCV(estimator = forest, param_grid = param_grid, \n",
    "                          cv = 5, n_jobs = -1, verbose = 2)\n",
    "# Fit the grid search to the data\n",
    "grid_search.fit(X_train, y_train.values.ravel())\n",
    "grid_search.best_params_"
   ]
  },
  {
   "cell_type": "code",
   "execution_count": 18,
   "metadata": {},
   "outputs": [],
   "source": [
    "best_grid = grid_search.best_estimator_"
   ]
  },
  {
   "cell_type": "code",
   "execution_count": 23,
   "metadata": {},
   "outputs": [
    {
     "data": {
      "image/png": "[encoded data removed]",
      "text/plain": [
       "<Figure size 432x288 with 1 Axes>"
      ]
     },
     "metadata": {
      "needs_background": "light"
     },
     "output_type": "display_data"
    }
   ],
   "source": [
    "features=X_train.columns[[0,1,2,3,4,5,6,7,8,9,10,11]]\n",
    "importances = best_grid.feature_importances_\n",
    "indices = np.argsort(importances)\n",
    "\n",
    "plt.title('Feature Importances')\n",
    "plt.barh(range(len(indices)), importances[indices], color='b', align='center')\n",
    "plt.yticks(range(len(indices)), [features[i] for i in indices])\n",
    "plt.xlabel('Relative Importance')\n",
    "plt.show()"
   ]
  },
  {
   "cell_type": "code",
   "execution_count": 24,
   "metadata": {},
   "outputs": [
    {
     "name": "stdout",
     "output_type": "stream",
     "text": [
      "0.00309739280766332 0.9643259069402568\n"
     ]
    }
   ],
   "source": [
    "y_rf = best_grid.predict(X_test)\n",
    "\n",
    "from sklearn.metrics import mean_squared_error\n",
    "RMSE_rf=np.sqrt(mean_squared_error(y_test,y_rf))\n",
    "r2_rf = r2_score(y_test,y_rf)\n",
    "print(RMSE_rf,r2_rf)"
   ]
  },
  {
   "cell_type": "code",
   "execution_count": 25,
   "metadata": {},
   "outputs": [
    {
     "data": {
      "text/html": [
       "<div>\n",
       "<style scoped>\n",
       "    .dataframe tbody tr th:only-of-type {\n",
       "        vertical-align: middle;\n",
       "    }\n",
       "\n",
       "    .dataframe tbody tr th {\n",
       "        vertical-align: top;\n",
       "    }\n",
       "\n",
       "    .dataframe thead th {\n",
       "        text-align: right;\n",
       "    }\n",
       "</style>\n",
       "<table border=\"1\" class=\"dataframe\">\n",
       "  <thead>\n",
       "    <tr style=\"text-align: right;\">\n",
       "      <th></th>\n",
       "      <th>Observed</th>\n",
       "      <th>MLR Predicted</th>\n",
       "      <th>RF Predicted</th>\n",
       "    </tr>\n",
       "  </thead>\n",
       "  <tbody>\n",
       "    <tr>\n",
       "      <th>0</th>\n",
       "      <td>0.01</td>\n",
       "      <td>0.004995</td>\n",
       "      <td>0.010000</td>\n",
       "    </tr>\n",
       "    <tr>\n",
       "      <th>1</th>\n",
       "      <td>0.04</td>\n",
       "      <td>0.035868</td>\n",
       "      <td>0.039043</td>\n",
       "    </tr>\n",
       "    <tr>\n",
       "      <th>2</th>\n",
       "      <td>0.04</td>\n",
       "      <td>0.043709</td>\n",
       "      <td>0.040157</td>\n",
       "    </tr>\n",
       "    <tr>\n",
       "      <th>3</th>\n",
       "      <td>0.01</td>\n",
       "      <td>0.014194</td>\n",
       "      <td>0.012900</td>\n",
       "    </tr>\n",
       "    <tr>\n",
       "      <th>4</th>\n",
       "      <td>0.04</td>\n",
       "      <td>0.042132</td>\n",
       "      <td>0.040000</td>\n",
       "    </tr>\n",
       "    <tr>\n",
       "      <th>...</th>\n",
       "      <td>...</td>\n",
       "      <td>...</td>\n",
       "      <td>...</td>\n",
       "    </tr>\n",
       "    <tr>\n",
       "      <th>29524</th>\n",
       "      <td>0.04</td>\n",
       "      <td>0.026691</td>\n",
       "      <td>0.040007</td>\n",
       "    </tr>\n",
       "    <tr>\n",
       "      <th>29525</th>\n",
       "      <td>0.05</td>\n",
       "      <td>0.039714</td>\n",
       "      <td>0.048924</td>\n",
       "    </tr>\n",
       "    <tr>\n",
       "      <th>29526</th>\n",
       "      <td>0.04</td>\n",
       "      <td>0.041913</td>\n",
       "      <td>0.042072</td>\n",
       "    </tr>\n",
       "    <tr>\n",
       "      <th>29527</th>\n",
       "      <td>0.01</td>\n",
       "      <td>0.011022</td>\n",
       "      <td>0.010000</td>\n",
       "    </tr>\n",
       "    <tr>\n",
       "      <th>29528</th>\n",
       "      <td>0.04</td>\n",
       "      <td>0.026371</td>\n",
       "      <td>0.040182</td>\n",
       "    </tr>\n",
       "  </tbody>\n",
       "</table>\n",
       "<p>29529 rows × 3 columns</p>\n",
       "</div>"
      ],
      "text/plain": [
       "       Observed  MLR Predicted  RF Predicted\n",
       "0          0.01       0.004995      0.010000\n",
       "1          0.04       0.035868      0.039043\n",
       "2          0.04       0.043709      0.040157\n",
       "3          0.01       0.014194      0.012900\n",
       "4          0.04       0.042132      0.040000\n",
       "...         ...            ...           ...\n",
       "29524      0.04       0.026691      0.040007\n",
       "29525      0.05       0.039714      0.048924\n",
       "29526      0.04       0.041913      0.042072\n",
       "29527      0.01       0.011022      0.010000\n",
       "29528      0.04       0.026371      0.040182\n",
       "\n",
       "[29529 rows x 3 columns]"
      ]
     },
     "execution_count": 25,
     "metadata": {},
     "output_type": "execute_result"
    }
   ],
   "source": [
    "y_test = y_test.to_numpy()\n",
    "sub_df = pd.DataFrame({'Observed':y_test.ravel(),'MLR Predicted':y_LR.ravel(), 'RF Predicted':y_rf.ravel()})\n",
    "sub_df"
   ]
  },
  {
   "cell_type": "code",
   "execution_count": 26,
   "metadata": {},
   "outputs": [
    {
     "data": {
      "text/plain": [
       "<matplotlib.legend.Legend at 0x218ebb7ba30>"
      ]
     },
     "execution_count": 26,
     "metadata": {},
     "output_type": "execute_result"
    },
    {
     "data": {
      "image/png": "[encoded data removed]",
      "text/plain": [
       "<Figure size 842.4x595.44 with 1 Axes>"
      ]
     },
     "metadata": {},
     "output_type": "display_data"
    }
   ],
   "source": [
    "sns.set(rc={'figure.figsize':(11.7,8.27)})\n",
    "sns.regplot(x=y_test, y=y_LR, data=sub_df, label='MLR predicted')\n",
    "sns.regplot(x=y_test, y=y_rf, data=sub_df, label='RF predicted')\n",
    "plt.suptitle('Jochenstein PO4')\n",
    "plt.xlabel('Observed')\n",
    "plt.ylabel('Predicted')\n",
    "plt.legend(title='Legend', loc='upper left')"
   ]
  },
  {
   "cell_type": "code",
   "execution_count": 27,
   "metadata": {},
   "outputs": [
    {
     "data": {
      "text/plain": [
       "Text(0.5, 0.98, 'Jochenstein PO4')"
      ]
     },
     "execution_count": 27,
     "metadata": {},
     "output_type": "execute_result"
    },
    {
     "data": {
      "image/png": "[encoded data removed]",
      "text/plain": [
       "<Figure size 842.4x595.44 with 1 Axes>"
      ]
     },
     "metadata": {},
     "output_type": "display_data"
    }
   ],
   "source": [
    "sns.set(rc={'figure.figsize':(11.7,8.27)})\n",
    "sns.violinplot(data=sub_df)\n",
    "plt.suptitle('Jochenstein PO4')"
   ]
  },
  {
   "cell_type": "code",
   "execution_count": 28,
   "metadata": {},
   "outputs": [
    {
     "name": "stdout",
     "output_type": "stream",
     "text": [
      "0.3810177852200955 0.1064125762069311\n"
     ]
    }
   ],
   "source": [
    "NRMSE_LR = RMSE_LR/(sub_df['MLR Predicted'].mean())\n",
    "NRMSE_rf = RMSE_rf/(sub_df['RF Predicted'].mean())\n",
    "print(NRMSE_LR,NRMSE_rf)"
   ]
  },
  {
   "cell_type": "code",
   "execution_count": 29,
   "metadata": {},
   "outputs": [],
   "source": [
    "writer = pd.ExcelWriter('PO4-Jochenstein.xlsx')\n",
    "sub_df.to_excel(writer)\n",
    "writer.save()"
   ]
  },
  {
   "cell_type": "code",
   "execution_count": null,
   "metadata": {},
   "outputs": [],
   "source": []
  }
 ],
 "metadata": {
  "kernelspec": {
   "display_name": "Python 3",
   "language": "python",
   "name": "python3"
  },
  "language_info": {
   "codemirror_mode": {
    "name": "ipython",
    "version": 3
   },
   "file_extension": ".py",
   "mimetype": "text/x-python",
   "name": "python",
   "nbconvert_exporter": "python",
   "pygments_lexer": "ipython3",
   "version": "3.8.5"
  }
 },
 "nbformat": 4,
 "nbformat_minor": 4
}
