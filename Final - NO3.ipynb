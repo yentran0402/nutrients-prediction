{
 "cells": [
  {
   "cell_type": "code",
   "execution_count": 1,
   "metadata": {},
   "outputs": [],
   "source": [
    "import pandas as pd\n",
    "import seaborn as sns\n",
    "import matplotlib.pyplot as plt\n",
    "import numpy as np\n",
    "from tqdm import tqdm\n",
    "import scipy.stats as stats\n",
    "import warnings # supress warnings\n",
    "warnings.filterwarnings('ignore')"
   ]
  },
  {
   "cell_type": "code",
   "execution_count": 2,
   "metadata": {},
   "outputs": [
    {
     "data": {
      "text/html": [
       "<div>\n",
       "<style scoped>\n",
       "    .dataframe tbody tr th:only-of-type {\n",
       "        vertical-align: middle;\n",
       "    }\n",
       "\n",
       "    .dataframe tbody tr th {\n",
       "        vertical-align: top;\n",
       "    }\n",
       "\n",
       "    .dataframe thead th {\n",
       "        text-align: right;\n",
       "    }\n",
       "</style>\n",
       "<table border=\"1\" class=\"dataframe\">\n",
       "  <thead>\n",
       "    <tr style=\"text-align: right;\">\n",
       "      <th></th>\n",
       "      <th>Datum</th>\n",
       "      <th>O2 [mg/l]</th>\n",
       "      <th>T [°C]</th>\n",
       "      <th>LF [µS/cm]</th>\n",
       "      <th>pH [--]</th>\n",
       "      <th>NO3-N [mg/l]</th>\n",
       "      <th>Chlorophyll</th>\n",
       "      <th>Abfluss [m³/s]</th>\n",
       "    </tr>\n",
       "  </thead>\n",
       "  <tbody>\n",
       "    <tr>\n",
       "      <th>0</th>\n",
       "      <td>2016-02-04 22:45:00</td>\n",
       "      <td>13.3</td>\n",
       "      <td>6.3</td>\n",
       "      <td>NaN</td>\n",
       "      <td>8.1</td>\n",
       "      <td>3.6</td>\n",
       "      <td>NaN</td>\n",
       "      <td>881.0</td>\n",
       "    </tr>\n",
       "    <tr>\n",
       "      <th>1</th>\n",
       "      <td>2016-02-04 23:00:00</td>\n",
       "      <td>13.3</td>\n",
       "      <td>6.3</td>\n",
       "      <td>NaN</td>\n",
       "      <td>8.1</td>\n",
       "      <td>3.6</td>\n",
       "      <td>NaN</td>\n",
       "      <td>881.0</td>\n",
       "    </tr>\n",
       "    <tr>\n",
       "      <th>2</th>\n",
       "      <td>2016-02-04 23:15:00</td>\n",
       "      <td>13.2</td>\n",
       "      <td>6.3</td>\n",
       "      <td>NaN</td>\n",
       "      <td>8.1</td>\n",
       "      <td>3.6</td>\n",
       "      <td>NaN</td>\n",
       "      <td>881.0</td>\n",
       "    </tr>\n",
       "    <tr>\n",
       "      <th>3</th>\n",
       "      <td>2016-02-04 23:30:00</td>\n",
       "      <td>13.2</td>\n",
       "      <td>6.2</td>\n",
       "      <td>NaN</td>\n",
       "      <td>8.1</td>\n",
       "      <td>3.6</td>\n",
       "      <td>NaN</td>\n",
       "      <td>881.0</td>\n",
       "    </tr>\n",
       "    <tr>\n",
       "      <th>4</th>\n",
       "      <td>2016-02-04 23:45:00</td>\n",
       "      <td>13.2</td>\n",
       "      <td>6.2</td>\n",
       "      <td>NaN</td>\n",
       "      <td>8.1</td>\n",
       "      <td>3.6</td>\n",
       "      <td>NaN</td>\n",
       "      <td>881.0</td>\n",
       "    </tr>\n",
       "    <tr>\n",
       "      <th>...</th>\n",
       "      <td>...</td>\n",
       "      <td>...</td>\n",
       "      <td>...</td>\n",
       "      <td>...</td>\n",
       "      <td>...</td>\n",
       "      <td>...</td>\n",
       "      <td>...</td>\n",
       "      <td>...</td>\n",
       "    </tr>\n",
       "    <tr>\n",
       "      <th>171937</th>\n",
       "      <td>2020-12-30 23:00:00</td>\n",
       "      <td>11.4</td>\n",
       "      <td>4.6</td>\n",
       "      <td>523.0</td>\n",
       "      <td>8.0</td>\n",
       "      <td>3.1</td>\n",
       "      <td>NaN</td>\n",
       "      <td>288.0</td>\n",
       "    </tr>\n",
       "    <tr>\n",
       "      <th>171938</th>\n",
       "      <td>2020-12-30 23:15:00</td>\n",
       "      <td>11.4</td>\n",
       "      <td>4.6</td>\n",
       "      <td>523.0</td>\n",
       "      <td>8.0</td>\n",
       "      <td>3.1</td>\n",
       "      <td>NaN</td>\n",
       "      <td>288.0</td>\n",
       "    </tr>\n",
       "    <tr>\n",
       "      <th>171939</th>\n",
       "      <td>2020-12-30 23:30:00</td>\n",
       "      <td>11.4</td>\n",
       "      <td>4.6</td>\n",
       "      <td>523.0</td>\n",
       "      <td>8.0</td>\n",
       "      <td>3.1</td>\n",
       "      <td>NaN</td>\n",
       "      <td>286.0</td>\n",
       "    </tr>\n",
       "    <tr>\n",
       "      <th>171940</th>\n",
       "      <td>2020-12-30 23:45:00</td>\n",
       "      <td>11.4</td>\n",
       "      <td>4.6</td>\n",
       "      <td>523.0</td>\n",
       "      <td>8.0</td>\n",
       "      <td>3.1</td>\n",
       "      <td>NaN</td>\n",
       "      <td>286.0</td>\n",
       "    </tr>\n",
       "    <tr>\n",
       "      <th>171941</th>\n",
       "      <td>2020-12-31 00:00:00</td>\n",
       "      <td>11.4</td>\n",
       "      <td>4.6</td>\n",
       "      <td>523.0</td>\n",
       "      <td>8.0</td>\n",
       "      <td>3.1</td>\n",
       "      <td>NaN</td>\n",
       "      <td>286.0</td>\n",
       "    </tr>\n",
       "  </tbody>\n",
       "</table>\n",
       "<p>171942 rows × 8 columns</p>\n",
       "</div>"
      ],
      "text/plain": [
       "                      Datum  O2 [mg/l]  T [°C]  LF [µS/cm]  pH [--]  \\\n",
       "0       2016-02-04 22:45:00       13.3     6.3         NaN      8.1   \n",
       "1       2016-02-04 23:00:00       13.3     6.3         NaN      8.1   \n",
       "2       2016-02-04 23:15:00       13.2     6.3         NaN      8.1   \n",
       "3       2016-02-04 23:30:00       13.2     6.2         NaN      8.1   \n",
       "4       2016-02-04 23:45:00       13.2     6.2         NaN      8.1   \n",
       "...                     ...        ...     ...         ...      ...   \n",
       "171937  2020-12-30 23:00:00       11.4     4.6       523.0      8.0   \n",
       "171938  2020-12-30 23:15:00       11.4     4.6       523.0      8.0   \n",
       "171939  2020-12-30 23:30:00       11.4     4.6       523.0      8.0   \n",
       "171940  2020-12-30 23:45:00       11.4     4.6       523.0      8.0   \n",
       "171941  2020-12-31 00:00:00       11.4     4.6       523.0      8.0   \n",
       "\n",
       "        NO3-N [mg/l]  Chlorophyll  Abfluss [m³/s]  \n",
       "0                3.6          NaN           881.0  \n",
       "1                3.6          NaN           881.0  \n",
       "2                3.6          NaN           881.0  \n",
       "3                3.6          NaN           881.0  \n",
       "4                3.6          NaN           881.0  \n",
       "...              ...          ...             ...  \n",
       "171937           3.1          NaN           288.0  \n",
       "171938           3.1          NaN           288.0  \n",
       "171939           3.1          NaN           286.0  \n",
       "171940           3.1          NaN           286.0  \n",
       "171941           3.1          NaN           286.0  \n",
       "\n",
       "[171942 rows x 8 columns]"
      ]
     },
     "execution_count": 2,
     "metadata": {},
     "output_type": "execute_result"
    }
   ],
   "source": [
    "df = pd.read_csv('Pfelling-Data.csv',header=0, index_col=0)\n",
    "del df['OPO4-P [mg/l]']\n",
    "del df['NH4-N [mg/l]']\n",
    "df"
   ]
  },
  {
   "cell_type": "code",
   "execution_count": 3,
   "metadata": {},
   "outputs": [
    {
     "name": "stdout",
     "output_type": "stream",
     "text": [
      "Datum                  0\n",
      "O2 [mg/l]          23830\n",
      "T [°C]             33764\n",
      "LF [µS/cm]         65667\n",
      "pH [--]            26730\n",
      "NO3-N [mg/l]       33233\n",
      "Chlorophyll       154814\n",
      "Abfluss [m³/s]       208\n",
      "dtype: int64\n"
     ]
    }
   ],
   "source": [
    "print(df.isna().sum())"
   ]
  },
  {
   "cell_type": "code",
   "execution_count": 4,
   "metadata": {},
   "outputs": [
    {
     "data": {
      "text/html": [
       "<div>\n",
       "<style scoped>\n",
       "    .dataframe tbody tr th:only-of-type {\n",
       "        vertical-align: middle;\n",
       "    }\n",
       "\n",
       "    .dataframe tbody tr th {\n",
       "        vertical-align: top;\n",
       "    }\n",
       "\n",
       "    .dataframe thead th {\n",
       "        text-align: right;\n",
       "    }\n",
       "</style>\n",
       "<table border=\"1\" class=\"dataframe\">\n",
       "  <thead>\n",
       "    <tr style=\"text-align: right;\">\n",
       "      <th></th>\n",
       "      <th>Datum</th>\n",
       "      <th>O2 [mg/l]</th>\n",
       "      <th>T [°C]</th>\n",
       "      <th>LF [µS/cm]</th>\n",
       "      <th>pH [--]</th>\n",
       "      <th>NO3-N [mg/l]</th>\n",
       "      <th>Chlorophyll</th>\n",
       "      <th>Abfluss [m³/s]</th>\n",
       "    </tr>\n",
       "  </thead>\n",
       "  <tbody>\n",
       "    <tr>\n",
       "      <th>0</th>\n",
       "      <td>2016-02-04 22:45:00</td>\n",
       "      <td>13.3</td>\n",
       "      <td>6.3</td>\n",
       "      <td>NaN</td>\n",
       "      <td>8.1</td>\n",
       "      <td>3.6</td>\n",
       "      <td>NaN</td>\n",
       "      <td>881.0</td>\n",
       "    </tr>\n",
       "    <tr>\n",
       "      <th>1</th>\n",
       "      <td>2016-02-04 23:00:00</td>\n",
       "      <td>13.3</td>\n",
       "      <td>6.3</td>\n",
       "      <td>NaN</td>\n",
       "      <td>8.1</td>\n",
       "      <td>3.6</td>\n",
       "      <td>NaN</td>\n",
       "      <td>881.0</td>\n",
       "    </tr>\n",
       "    <tr>\n",
       "      <th>2</th>\n",
       "      <td>2016-02-04 23:15:00</td>\n",
       "      <td>13.2</td>\n",
       "      <td>6.3</td>\n",
       "      <td>NaN</td>\n",
       "      <td>8.1</td>\n",
       "      <td>3.6</td>\n",
       "      <td>NaN</td>\n",
       "      <td>881.0</td>\n",
       "    </tr>\n",
       "    <tr>\n",
       "      <th>3</th>\n",
       "      <td>2016-02-04 23:30:00</td>\n",
       "      <td>13.2</td>\n",
       "      <td>6.2</td>\n",
       "      <td>NaN</td>\n",
       "      <td>8.1</td>\n",
       "      <td>3.6</td>\n",
       "      <td>NaN</td>\n",
       "      <td>881.0</td>\n",
       "    </tr>\n",
       "    <tr>\n",
       "      <th>4</th>\n",
       "      <td>2016-02-04 23:45:00</td>\n",
       "      <td>13.2</td>\n",
       "      <td>6.2</td>\n",
       "      <td>NaN</td>\n",
       "      <td>8.1</td>\n",
       "      <td>3.6</td>\n",
       "      <td>NaN</td>\n",
       "      <td>881.0</td>\n",
       "    </tr>\n",
       "    <tr>\n",
       "      <th>...</th>\n",
       "      <td>...</td>\n",
       "      <td>...</td>\n",
       "      <td>...</td>\n",
       "      <td>...</td>\n",
       "      <td>...</td>\n",
       "      <td>...</td>\n",
       "      <td>...</td>\n",
       "      <td>...</td>\n",
       "    </tr>\n",
       "    <tr>\n",
       "      <th>171937</th>\n",
       "      <td>2020-12-30 23:00:00</td>\n",
       "      <td>11.4</td>\n",
       "      <td>4.6</td>\n",
       "      <td>523.0</td>\n",
       "      <td>8.0</td>\n",
       "      <td>3.1</td>\n",
       "      <td>NaN</td>\n",
       "      <td>288.0</td>\n",
       "    </tr>\n",
       "    <tr>\n",
       "      <th>171938</th>\n",
       "      <td>2020-12-30 23:15:00</td>\n",
       "      <td>11.4</td>\n",
       "      <td>4.6</td>\n",
       "      <td>523.0</td>\n",
       "      <td>8.0</td>\n",
       "      <td>3.1</td>\n",
       "      <td>NaN</td>\n",
       "      <td>288.0</td>\n",
       "    </tr>\n",
       "    <tr>\n",
       "      <th>171939</th>\n",
       "      <td>2020-12-30 23:30:00</td>\n",
       "      <td>11.4</td>\n",
       "      <td>4.6</td>\n",
       "      <td>523.0</td>\n",
       "      <td>8.0</td>\n",
       "      <td>3.1</td>\n",
       "      <td>NaN</td>\n",
       "      <td>286.0</td>\n",
       "    </tr>\n",
       "    <tr>\n",
       "      <th>171940</th>\n",
       "      <td>2020-12-30 23:45:00</td>\n",
       "      <td>11.4</td>\n",
       "      <td>4.6</td>\n",
       "      <td>523.0</td>\n",
       "      <td>8.0</td>\n",
       "      <td>3.1</td>\n",
       "      <td>NaN</td>\n",
       "      <td>286.0</td>\n",
       "    </tr>\n",
       "    <tr>\n",
       "      <th>171941</th>\n",
       "      <td>2020-12-31 00:00:00</td>\n",
       "      <td>11.4</td>\n",
       "      <td>4.6</td>\n",
       "      <td>523.0</td>\n",
       "      <td>8.0</td>\n",
       "      <td>3.1</td>\n",
       "      <td>NaN</td>\n",
       "      <td>286.0</td>\n",
       "    </tr>\n",
       "  </tbody>\n",
       "</table>\n",
       "<p>138709 rows × 8 columns</p>\n",
       "</div>"
      ],
      "text/plain": [
       "                      Datum  O2 [mg/l]  T [°C]  LF [µS/cm]  pH [--]  \\\n",
       "0       2016-02-04 22:45:00       13.3     6.3         NaN      8.1   \n",
       "1       2016-02-04 23:00:00       13.3     6.3         NaN      8.1   \n",
       "2       2016-02-04 23:15:00       13.2     6.3         NaN      8.1   \n",
       "3       2016-02-04 23:30:00       13.2     6.2         NaN      8.1   \n",
       "4       2016-02-04 23:45:00       13.2     6.2         NaN      8.1   \n",
       "...                     ...        ...     ...         ...      ...   \n",
       "171937  2020-12-30 23:00:00       11.4     4.6       523.0      8.0   \n",
       "171938  2020-12-30 23:15:00       11.4     4.6       523.0      8.0   \n",
       "171939  2020-12-30 23:30:00       11.4     4.6       523.0      8.0   \n",
       "171940  2020-12-30 23:45:00       11.4     4.6       523.0      8.0   \n",
       "171941  2020-12-31 00:00:00       11.4     4.6       523.0      8.0   \n",
       "\n",
       "        NO3-N [mg/l]  Chlorophyll  Abfluss [m³/s]  \n",
       "0                3.6          NaN           881.0  \n",
       "1                3.6          NaN           881.0  \n",
       "2                3.6          NaN           881.0  \n",
       "3                3.6          NaN           881.0  \n",
       "4                3.6          NaN           881.0  \n",
       "...              ...          ...             ...  \n",
       "171937           3.1          NaN           288.0  \n",
       "171938           3.1          NaN           288.0  \n",
       "171939           3.1          NaN           286.0  \n",
       "171940           3.1          NaN           286.0  \n",
       "171941           3.1          NaN           286.0  \n",
       "\n",
       "[138709 rows x 8 columns]"
      ]
     },
     "execution_count": 4,
     "metadata": {},
     "output_type": "execute_result"
    }
   ],
   "source": [
    "df = df[df['NO3-N [mg/l]'].notna()]\n",
    "df"
   ]
  },
  {
   "cell_type": "code",
   "execution_count": 5,
   "metadata": {},
   "outputs": [],
   "source": [
    "df = df.interpolate(method='linear')"
   ]
  },
  {
   "cell_type": "code",
   "execution_count": 6,
   "metadata": {},
   "outputs": [
    {
     "data": {
      "text/html": [
       "<div>\n",
       "<style scoped>\n",
       "    .dataframe tbody tr th:only-of-type {\n",
       "        vertical-align: middle;\n",
       "    }\n",
       "\n",
       "    .dataframe tbody tr th {\n",
       "        vertical-align: top;\n",
       "    }\n",
       "\n",
       "    .dataframe thead th {\n",
       "        text-align: right;\n",
       "    }\n",
       "</style>\n",
       "<table border=\"1\" class=\"dataframe\">\n",
       "  <thead>\n",
       "    <tr style=\"text-align: right;\">\n",
       "      <th></th>\n",
       "      <th>Datum</th>\n",
       "      <th>O2 [mg/l]</th>\n",
       "      <th>T [°C]</th>\n",
       "      <th>LF [µS/cm]</th>\n",
       "      <th>pH [--]</th>\n",
       "      <th>NO3-N [mg/l]</th>\n",
       "      <th>Chlorophyll</th>\n",
       "      <th>Abfluss [m³/s]</th>\n",
       "    </tr>\n",
       "  </thead>\n",
       "  <tbody>\n",
       "    <tr>\n",
       "      <th>37445</th>\n",
       "      <td>2017-03-01 00:00:00</td>\n",
       "      <td>11.3</td>\n",
       "      <td>6.0</td>\n",
       "      <td>469.050518</td>\n",
       "      <td>8.1</td>\n",
       "      <td>4.2</td>\n",
       "      <td>5.50</td>\n",
       "      <td>419.0</td>\n",
       "    </tr>\n",
       "    <tr>\n",
       "      <th>37446</th>\n",
       "      <td>2017-03-01 00:15:00</td>\n",
       "      <td>11.3</td>\n",
       "      <td>5.9</td>\n",
       "      <td>469.051346</td>\n",
       "      <td>8.1</td>\n",
       "      <td>4.2</td>\n",
       "      <td>5.85</td>\n",
       "      <td>419.0</td>\n",
       "    </tr>\n",
       "    <tr>\n",
       "      <th>37447</th>\n",
       "      <td>2017-03-01 00:30:00</td>\n",
       "      <td>11.3</td>\n",
       "      <td>6.0</td>\n",
       "      <td>469.052174</td>\n",
       "      <td>8.1</td>\n",
       "      <td>4.2</td>\n",
       "      <td>6.20</td>\n",
       "      <td>419.0</td>\n",
       "    </tr>\n",
       "    <tr>\n",
       "      <th>37448</th>\n",
       "      <td>2017-03-01 00:45:00</td>\n",
       "      <td>11.3</td>\n",
       "      <td>5.9</td>\n",
       "      <td>469.053002</td>\n",
       "      <td>8.1</td>\n",
       "      <td>4.2</td>\n",
       "      <td>6.55</td>\n",
       "      <td>419.0</td>\n",
       "    </tr>\n",
       "    <tr>\n",
       "      <th>37449</th>\n",
       "      <td>2017-03-01 01:00:00</td>\n",
       "      <td>11.3</td>\n",
       "      <td>5.8</td>\n",
       "      <td>469.053830</td>\n",
       "      <td>8.1</td>\n",
       "      <td>4.2</td>\n",
       "      <td>6.90</td>\n",
       "      <td>417.0</td>\n",
       "    </tr>\n",
       "    <tr>\n",
       "      <th>...</th>\n",
       "      <td>...</td>\n",
       "      <td>...</td>\n",
       "      <td>...</td>\n",
       "      <td>...</td>\n",
       "      <td>...</td>\n",
       "      <td>...</td>\n",
       "      <td>...</td>\n",
       "      <td>...</td>\n",
       "    </tr>\n",
       "    <tr>\n",
       "      <th>171937</th>\n",
       "      <td>2020-12-30 23:00:00</td>\n",
       "      <td>11.4</td>\n",
       "      <td>4.6</td>\n",
       "      <td>523.000000</td>\n",
       "      <td>8.0</td>\n",
       "      <td>3.1</td>\n",
       "      <td>1.10</td>\n",
       "      <td>288.0</td>\n",
       "    </tr>\n",
       "    <tr>\n",
       "      <th>171938</th>\n",
       "      <td>2020-12-30 23:15:00</td>\n",
       "      <td>11.4</td>\n",
       "      <td>4.6</td>\n",
       "      <td>523.000000</td>\n",
       "      <td>8.0</td>\n",
       "      <td>3.1</td>\n",
       "      <td>1.10</td>\n",
       "      <td>288.0</td>\n",
       "    </tr>\n",
       "    <tr>\n",
       "      <th>171939</th>\n",
       "      <td>2020-12-30 23:30:00</td>\n",
       "      <td>11.4</td>\n",
       "      <td>4.6</td>\n",
       "      <td>523.000000</td>\n",
       "      <td>8.0</td>\n",
       "      <td>3.1</td>\n",
       "      <td>1.10</td>\n",
       "      <td>286.0</td>\n",
       "    </tr>\n",
       "    <tr>\n",
       "      <th>171940</th>\n",
       "      <td>2020-12-30 23:45:00</td>\n",
       "      <td>11.4</td>\n",
       "      <td>4.6</td>\n",
       "      <td>523.000000</td>\n",
       "      <td>8.0</td>\n",
       "      <td>3.1</td>\n",
       "      <td>1.10</td>\n",
       "      <td>286.0</td>\n",
       "    </tr>\n",
       "    <tr>\n",
       "      <th>171941</th>\n",
       "      <td>2020-12-31 00:00:00</td>\n",
       "      <td>11.4</td>\n",
       "      <td>4.6</td>\n",
       "      <td>523.000000</td>\n",
       "      <td>8.0</td>\n",
       "      <td>3.1</td>\n",
       "      <td>1.10</td>\n",
       "      <td>286.0</td>\n",
       "    </tr>\n",
       "  </tbody>\n",
       "</table>\n",
       "<p>109276 rows × 8 columns</p>\n",
       "</div>"
      ],
      "text/plain": [
       "                      Datum  O2 [mg/l]  T [°C]  LF [µS/cm]  pH [--]  \\\n",
       "37445   2017-03-01 00:00:00       11.3     6.0  469.050518      8.1   \n",
       "37446   2017-03-01 00:15:00       11.3     5.9  469.051346      8.1   \n",
       "37447   2017-03-01 00:30:00       11.3     6.0  469.052174      8.1   \n",
       "37448   2017-03-01 00:45:00       11.3     5.9  469.053002      8.1   \n",
       "37449   2017-03-01 01:00:00       11.3     5.8  469.053830      8.1   \n",
       "...                     ...        ...     ...         ...      ...   \n",
       "171937  2020-12-30 23:00:00       11.4     4.6  523.000000      8.0   \n",
       "171938  2020-12-30 23:15:00       11.4     4.6  523.000000      8.0   \n",
       "171939  2020-12-30 23:30:00       11.4     4.6  523.000000      8.0   \n",
       "171940  2020-12-30 23:45:00       11.4     4.6  523.000000      8.0   \n",
       "171941  2020-12-31 00:00:00       11.4     4.6  523.000000      8.0   \n",
       "\n",
       "        NO3-N [mg/l]  Chlorophyll  Abfluss [m³/s]  \n",
       "37445            4.2         5.50           419.0  \n",
       "37446            4.2         5.85           419.0  \n",
       "37447            4.2         6.20           419.0  \n",
       "37448            4.2         6.55           419.0  \n",
       "37449            4.2         6.90           417.0  \n",
       "...              ...          ...             ...  \n",
       "171937           3.1         1.10           288.0  \n",
       "171938           3.1         1.10           288.0  \n",
       "171939           3.1         1.10           286.0  \n",
       "171940           3.1         1.10           286.0  \n",
       "171941           3.1         1.10           286.0  \n",
       "\n",
       "[109276 rows x 8 columns]"
      ]
     },
     "execution_count": 6,
     "metadata": {},
     "output_type": "execute_result"
    }
   ],
   "source": [
    "df.dropna(inplace=True)\n",
    "df"
   ]
  },
  {
   "cell_type": "code",
   "execution_count": 7,
   "metadata": {},
   "outputs": [],
   "source": [
    "def encode(data, col, max_val):\n",
    "    data[col + '_sin'] = np.sin(2 * np.pi * data[col]/max_val)\n",
    "    data[col + '_cos'] = np.cos(2 * np.pi * data[col]/max_val)\n",
    "    return data"
   ]
  },
  {
   "cell_type": "code",
   "execution_count": 8,
   "metadata": {},
   "outputs": [
    {
     "data": {
      "text/html": [
       "<div>\n",
       "<style scoped>\n",
       "    .dataframe tbody tr th:only-of-type {\n",
       "        vertical-align: middle;\n",
       "    }\n",
       "\n",
       "    .dataframe tbody tr th {\n",
       "        vertical-align: top;\n",
       "    }\n",
       "\n",
       "    .dataframe thead th {\n",
       "        text-align: right;\n",
       "    }\n",
       "</style>\n",
       "<table border=\"1\" class=\"dataframe\">\n",
       "  <thead>\n",
       "    <tr style=\"text-align: right;\">\n",
       "      <th></th>\n",
       "      <th>Datum</th>\n",
       "      <th>O2 [mg/l]</th>\n",
       "      <th>T [°C]</th>\n",
       "      <th>LF [µS/cm]</th>\n",
       "      <th>pH [--]</th>\n",
       "      <th>NO3-N [mg/l]</th>\n",
       "      <th>Chlorophyll</th>\n",
       "      <th>Abfluss [m³/s]</th>\n",
       "      <th>month</th>\n",
       "      <th>month_sin</th>\n",
       "      <th>month_cos</th>\n",
       "      <th>day</th>\n",
       "      <th>day_sin</th>\n",
       "      <th>day_cos</th>\n",
       "      <th>hour</th>\n",
       "      <th>hour_sin</th>\n",
       "      <th>hour_cos</th>\n",
       "    </tr>\n",
       "  </thead>\n",
       "  <tbody>\n",
       "    <tr>\n",
       "      <th>37445</th>\n",
       "      <td>2017-03-01 00:00:00</td>\n",
       "      <td>11.3</td>\n",
       "      <td>6.0</td>\n",
       "      <td>469.050518</td>\n",
       "      <td>8.1</td>\n",
       "      <td>4.2</td>\n",
       "      <td>5.50</td>\n",
       "      <td>419.0</td>\n",
       "      <td>3</td>\n",
       "      <td>1.000000e+00</td>\n",
       "      <td>6.123234e-17</td>\n",
       "      <td>1</td>\n",
       "      <td>0.017213</td>\n",
       "      <td>0.999852</td>\n",
       "      <td>0</td>\n",
       "      <td>0.000000e+00</td>\n",
       "      <td>1.000000</td>\n",
       "    </tr>\n",
       "    <tr>\n",
       "      <th>37446</th>\n",
       "      <td>2017-03-01 00:15:00</td>\n",
       "      <td>11.3</td>\n",
       "      <td>5.9</td>\n",
       "      <td>469.051346</td>\n",
       "      <td>8.1</td>\n",
       "      <td>4.2</td>\n",
       "      <td>5.85</td>\n",
       "      <td>419.0</td>\n",
       "      <td>3</td>\n",
       "      <td>1.000000e+00</td>\n",
       "      <td>6.123234e-17</td>\n",
       "      <td>1</td>\n",
       "      <td>0.017213</td>\n",
       "      <td>0.999852</td>\n",
       "      <td>0</td>\n",
       "      <td>0.000000e+00</td>\n",
       "      <td>1.000000</td>\n",
       "    </tr>\n",
       "    <tr>\n",
       "      <th>37447</th>\n",
       "      <td>2017-03-01 00:30:00</td>\n",
       "      <td>11.3</td>\n",
       "      <td>6.0</td>\n",
       "      <td>469.052174</td>\n",
       "      <td>8.1</td>\n",
       "      <td>4.2</td>\n",
       "      <td>6.20</td>\n",
       "      <td>419.0</td>\n",
       "      <td>3</td>\n",
       "      <td>1.000000e+00</td>\n",
       "      <td>6.123234e-17</td>\n",
       "      <td>1</td>\n",
       "      <td>0.017213</td>\n",
       "      <td>0.999852</td>\n",
       "      <td>0</td>\n",
       "      <td>0.000000e+00</td>\n",
       "      <td>1.000000</td>\n",
       "    </tr>\n",
       "    <tr>\n",
       "      <th>37448</th>\n",
       "      <td>2017-03-01 00:45:00</td>\n",
       "      <td>11.3</td>\n",
       "      <td>5.9</td>\n",
       "      <td>469.053002</td>\n",
       "      <td>8.1</td>\n",
       "      <td>4.2</td>\n",
       "      <td>6.55</td>\n",
       "      <td>419.0</td>\n",
       "      <td>3</td>\n",
       "      <td>1.000000e+00</td>\n",
       "      <td>6.123234e-17</td>\n",
       "      <td>1</td>\n",
       "      <td>0.017213</td>\n",
       "      <td>0.999852</td>\n",
       "      <td>0</td>\n",
       "      <td>0.000000e+00</td>\n",
       "      <td>1.000000</td>\n",
       "    </tr>\n",
       "    <tr>\n",
       "      <th>37449</th>\n",
       "      <td>2017-03-01 01:00:00</td>\n",
       "      <td>11.3</td>\n",
       "      <td>5.8</td>\n",
       "      <td>469.053830</td>\n",
       "      <td>8.1</td>\n",
       "      <td>4.2</td>\n",
       "      <td>6.90</td>\n",
       "      <td>417.0</td>\n",
       "      <td>3</td>\n",
       "      <td>1.000000e+00</td>\n",
       "      <td>6.123234e-17</td>\n",
       "      <td>1</td>\n",
       "      <td>0.017213</td>\n",
       "      <td>0.999852</td>\n",
       "      <td>1</td>\n",
       "      <td>2.697968e-01</td>\n",
       "      <td>0.962917</td>\n",
       "    </tr>\n",
       "    <tr>\n",
       "      <th>...</th>\n",
       "      <td>...</td>\n",
       "      <td>...</td>\n",
       "      <td>...</td>\n",
       "      <td>...</td>\n",
       "      <td>...</td>\n",
       "      <td>...</td>\n",
       "      <td>...</td>\n",
       "      <td>...</td>\n",
       "      <td>...</td>\n",
       "      <td>...</td>\n",
       "      <td>...</td>\n",
       "      <td>...</td>\n",
       "      <td>...</td>\n",
       "      <td>...</td>\n",
       "      <td>...</td>\n",
       "      <td>...</td>\n",
       "      <td>...</td>\n",
       "    </tr>\n",
       "    <tr>\n",
       "      <th>171937</th>\n",
       "      <td>2020-12-30 23:00:00</td>\n",
       "      <td>11.4</td>\n",
       "      <td>4.6</td>\n",
       "      <td>523.000000</td>\n",
       "      <td>8.0</td>\n",
       "      <td>3.1</td>\n",
       "      <td>1.10</td>\n",
       "      <td>288.0</td>\n",
       "      <td>12</td>\n",
       "      <td>-2.449294e-16</td>\n",
       "      <td>1.000000e+00</td>\n",
       "      <td>30</td>\n",
       "      <td>0.493776</td>\n",
       "      <td>0.869589</td>\n",
       "      <td>23</td>\n",
       "      <td>-2.449294e-16</td>\n",
       "      <td>1.000000</td>\n",
       "    </tr>\n",
       "    <tr>\n",
       "      <th>171938</th>\n",
       "      <td>2020-12-30 23:15:00</td>\n",
       "      <td>11.4</td>\n",
       "      <td>4.6</td>\n",
       "      <td>523.000000</td>\n",
       "      <td>8.0</td>\n",
       "      <td>3.1</td>\n",
       "      <td>1.10</td>\n",
       "      <td>288.0</td>\n",
       "      <td>12</td>\n",
       "      <td>-2.449294e-16</td>\n",
       "      <td>1.000000e+00</td>\n",
       "      <td>30</td>\n",
       "      <td>0.493776</td>\n",
       "      <td>0.869589</td>\n",
       "      <td>23</td>\n",
       "      <td>-2.449294e-16</td>\n",
       "      <td>1.000000</td>\n",
       "    </tr>\n",
       "    <tr>\n",
       "      <th>171939</th>\n",
       "      <td>2020-12-30 23:30:00</td>\n",
       "      <td>11.4</td>\n",
       "      <td>4.6</td>\n",
       "      <td>523.000000</td>\n",
       "      <td>8.0</td>\n",
       "      <td>3.1</td>\n",
       "      <td>1.10</td>\n",
       "      <td>286.0</td>\n",
       "      <td>12</td>\n",
       "      <td>-2.449294e-16</td>\n",
       "      <td>1.000000e+00</td>\n",
       "      <td>30</td>\n",
       "      <td>0.493776</td>\n",
       "      <td>0.869589</td>\n",
       "      <td>23</td>\n",
       "      <td>-2.449294e-16</td>\n",
       "      <td>1.000000</td>\n",
       "    </tr>\n",
       "    <tr>\n",
       "      <th>171940</th>\n",
       "      <td>2020-12-30 23:45:00</td>\n",
       "      <td>11.4</td>\n",
       "      <td>4.6</td>\n",
       "      <td>523.000000</td>\n",
       "      <td>8.0</td>\n",
       "      <td>3.1</td>\n",
       "      <td>1.10</td>\n",
       "      <td>286.0</td>\n",
       "      <td>12</td>\n",
       "      <td>-2.449294e-16</td>\n",
       "      <td>1.000000e+00</td>\n",
       "      <td>30</td>\n",
       "      <td>0.493776</td>\n",
       "      <td>0.869589</td>\n",
       "      <td>23</td>\n",
       "      <td>-2.449294e-16</td>\n",
       "      <td>1.000000</td>\n",
       "    </tr>\n",
       "    <tr>\n",
       "      <th>171941</th>\n",
       "      <td>2020-12-31 00:00:00</td>\n",
       "      <td>11.4</td>\n",
       "      <td>4.6</td>\n",
       "      <td>523.000000</td>\n",
       "      <td>8.0</td>\n",
       "      <td>3.1</td>\n",
       "      <td>1.10</td>\n",
       "      <td>286.0</td>\n",
       "      <td>12</td>\n",
       "      <td>-2.449294e-16</td>\n",
       "      <td>1.000000e+00</td>\n",
       "      <td>31</td>\n",
       "      <td>0.508671</td>\n",
       "      <td>0.860961</td>\n",
       "      <td>0</td>\n",
       "      <td>0.000000e+00</td>\n",
       "      <td>1.000000</td>\n",
       "    </tr>\n",
       "  </tbody>\n",
       "</table>\n",
       "<p>109276 rows × 17 columns</p>\n",
       "</div>"
      ],
      "text/plain": [
       "                      Datum  O2 [mg/l]  T [°C]  LF [µS/cm]  pH [--]  \\\n",
       "37445   2017-03-01 00:00:00       11.3     6.0  469.050518      8.1   \n",
       "37446   2017-03-01 00:15:00       11.3     5.9  469.051346      8.1   \n",
       "37447   2017-03-01 00:30:00       11.3     6.0  469.052174      8.1   \n",
       "37448   2017-03-01 00:45:00       11.3     5.9  469.053002      8.1   \n",
       "37449   2017-03-01 01:00:00       11.3     5.8  469.053830      8.1   \n",
       "...                     ...        ...     ...         ...      ...   \n",
       "171937  2020-12-30 23:00:00       11.4     4.6  523.000000      8.0   \n",
       "171938  2020-12-30 23:15:00       11.4     4.6  523.000000      8.0   \n",
       "171939  2020-12-30 23:30:00       11.4     4.6  523.000000      8.0   \n",
       "171940  2020-12-30 23:45:00       11.4     4.6  523.000000      8.0   \n",
       "171941  2020-12-31 00:00:00       11.4     4.6  523.000000      8.0   \n",
       "\n",
       "        NO3-N [mg/l]  Chlorophyll  Abfluss [m³/s]  month     month_sin  \\\n",
       "37445            4.2         5.50           419.0      3  1.000000e+00   \n",
       "37446            4.2         5.85           419.0      3  1.000000e+00   \n",
       "37447            4.2         6.20           419.0      3  1.000000e+00   \n",
       "37448            4.2         6.55           419.0      3  1.000000e+00   \n",
       "37449            4.2         6.90           417.0      3  1.000000e+00   \n",
       "...              ...          ...             ...    ...           ...   \n",
       "171937           3.1         1.10           288.0     12 -2.449294e-16   \n",
       "171938           3.1         1.10           288.0     12 -2.449294e-16   \n",
       "171939           3.1         1.10           286.0     12 -2.449294e-16   \n",
       "171940           3.1         1.10           286.0     12 -2.449294e-16   \n",
       "171941           3.1         1.10           286.0     12 -2.449294e-16   \n",
       "\n",
       "           month_cos  day   day_sin   day_cos  hour      hour_sin  hour_cos  \n",
       "37445   6.123234e-17    1  0.017213  0.999852     0  0.000000e+00  1.000000  \n",
       "37446   6.123234e-17    1  0.017213  0.999852     0  0.000000e+00  1.000000  \n",
       "37447   6.123234e-17    1  0.017213  0.999852     0  0.000000e+00  1.000000  \n",
       "37448   6.123234e-17    1  0.017213  0.999852     0  0.000000e+00  1.000000  \n",
       "37449   6.123234e-17    1  0.017213  0.999852     1  2.697968e-01  0.962917  \n",
       "...              ...  ...       ...       ...   ...           ...       ...  \n",
       "171937  1.000000e+00   30  0.493776  0.869589    23 -2.449294e-16  1.000000  \n",
       "171938  1.000000e+00   30  0.493776  0.869589    23 -2.449294e-16  1.000000  \n",
       "171939  1.000000e+00   30  0.493776  0.869589    23 -2.449294e-16  1.000000  \n",
       "171940  1.000000e+00   30  0.493776  0.869589    23 -2.449294e-16  1.000000  \n",
       "171941  1.000000e+00   31  0.508671  0.860961     0  0.000000e+00  1.000000  \n",
       "\n",
       "[109276 rows x 17 columns]"
      ]
     },
     "execution_count": 8,
     "metadata": {},
     "output_type": "execute_result"
    }
   ],
   "source": [
    "df['month'] = pd.DatetimeIndex(df['Datum']).month\n",
    "df = encode(df, 'month', 12)\n",
    "\n",
    "df['day'] = pd.DatetimeIndex(df['Datum']).day\n",
    "df = encode(df, 'day', 365)\n",
    "\n",
    "df['hour'] = pd.DatetimeIndex(df['Datum']).hour\n",
    "df = encode(df, 'hour', 23)\n",
    "\n",
    "df"
   ]
  },
  {
   "cell_type": "code",
   "execution_count": 9,
   "metadata": {},
   "outputs": [
    {
     "data": {
      "text/plain": [
       "<Figure size 864x864 with 0 Axes>"
      ]
     },
     "metadata": {},
     "output_type": "display_data"
    },
    {
     "data": {
      "image/png": "[encoded data removed]",
      "text/plain": [
       "<Figure size 432x288 with 1 Axes>"
      ]
     },
     "metadata": {
      "needs_background": "light"
     },
     "output_type": "display_data"
    }
   ],
   "source": [
    "from matplotlib.pyplot import figure\n",
    "figure(figsize=(12, 12))\n",
    "ax = df.plot.scatter('hour_sin', 'hour_cos').set_aspect('equal')"
   ]
  },
  {
   "cell_type": "code",
   "execution_count": 20,
   "metadata": {},
   "outputs": [
    {
     "data": {
      "image/png": "[encoded data removed]",
      "text/plain": [
       "<Figure size 640x480 with 1 Axes>"
      ]
     },
     "metadata": {
      "needs_background": "light"
     },
     "output_type": "display_data"
    }
   ],
   "source": [
    "time = df.iloc[:500]\n",
    "\n",
    "from matplotlib.pyplot import figure\n",
    "figure(figsize=(8, 6), dpi=80)\n",
    "ax = time['hour_sin'].plot()"
   ]
  },
  {
   "cell_type": "code",
   "execution_count": 21,
   "metadata": {},
   "outputs": [
    {
     "data": {
      "image/png": "[encoded data removed]",
      "text/plain": [
       "<Figure size 640x480 with 1 Axes>"
      ]
     },
     "metadata": {
      "needs_background": "light"
     },
     "output_type": "display_data"
    }
   ],
   "source": [
    "figure(figsize=(8, 6), dpi=80)\n",
    "ax = time['hour_cos'].plot()"
   ]
  },
  {
   "cell_type": "code",
   "execution_count": 22,
   "metadata": {},
   "outputs": [
    {
     "data": {
      "image/png": "[encoded data removed]",
      "text/plain": [
       "<Figure size 640x480 with 1 Axes>"
      ]
     },
     "metadata": {
      "needs_background": "light"
     },
     "output_type": "display_data"
    }
   ],
   "source": [
    "figure(figsize=(8, 6), dpi=80)\n",
    "ax = time['hour'].plot()"
   ]
  },
  {
   "cell_type": "code",
   "execution_count": 29,
   "metadata": {},
   "outputs": [],
   "source": [
    "writer = pd.ExcelWriter('time.xlsx')\n",
    "time.to_excel(writer)\n",
    "writer.save()"
   ]
  },
  {
   "cell_type": "code",
   "execution_count": 9,
   "metadata": {},
   "outputs": [],
   "source": [
    "columns = ['Chlorophyll','Abfluss [m³/s]']\n",
    "df[columns] = df[columns].apply(np.log)"
   ]
  },
  {
   "cell_type": "code",
   "execution_count": 10,
   "metadata": {},
   "outputs": [],
   "source": [
    "# train-test 80-20 split\n",
    "from sklearn.model_selection import train_test_split\n",
    "\n",
    "df_train, df_test = train_test_split(df, \n",
    "                                     train_size = 0.8, \n",
    "                                     test_size = 0.2, \n",
    "                                     random_state = 100)"
   ]
  },
  {
   "cell_type": "code",
   "execution_count": 11,
   "metadata": {},
   "outputs": [
    {
     "data": {
      "text/plain": [
       "NO3-N [mg/l]      1.000000\n",
       "mnth_cos          0.748772\n",
       "O2 [mg/l]         0.607595\n",
       "Abfluss [m³/s]    0.444812\n",
       "Chlorophyll       0.337841\n",
       "mnth_sin          0.274171\n",
       "LF [µS/cm]        0.260730\n",
       "pH [--]           0.204022\n",
       "d_sin             0.017151\n",
       "d_cos             0.007971\n",
       "hr_cos            0.006049\n",
       "hr_sin            0.001484\n",
       "minute_cos        0.000605\n",
       "minute           -0.000379\n",
       "minute_sin       -0.002593\n",
       "hr               -0.005837\n",
       "d                -0.035954\n",
       "mth              -0.316111\n",
       "T [°C]           -0.721136\n",
       "Name: NO3-N [mg/l], dtype: float64"
      ]
     },
     "execution_count": 11,
     "metadata": {},
     "output_type": "execute_result"
    },
    {
     "data": {
      "image/png": "[encoded data removed]",
      "text/plain": [
       "<Figure size 720x720 with 2 Axes>"
      ]
     },
     "metadata": {
      "needs_background": "light"
     },
     "output_type": "display_data"
    }
   ],
   "source": [
    "X_NAMES1 = ['O2 [mg/l]','T [°C]','LF [µS/cm]','pH [--]','NH4-N [mg/l]','OPO4-P [mg/l]','Chlorophyll','Abfluss [m³/s]']\n",
    "Y_NAMES1 = ['NO3-N [mg/l]']\n",
    "\n",
    "corr = df_train.corr()\n",
    "corr = corr.loc[:, Y_NAMES1]\n",
    "plt.figure(figsize=(10,10))\n",
    "sns.heatmap(corr, annot = True)\n",
    "corr['NO3-N [mg/l]'].sort_values(ascending=False)"
   ]
  },
  {
   "cell_type": "code",
   "execution_count": 18,
   "metadata": {},
   "outputs": [],
   "source": [
    "X_train = df_train[['O2 [mg/l]','T [°C]','LF [µS/cm]','pH [--]','Chlorophyll','Abfluss [m³/s]','month_sin','month_cos','day_sin','day_cos','hour_sin','hour_cos']]\n",
    "y_train = df_train[['NO3-N [mg/l]']]\n",
    "\n",
    "X_test = df_test[['O2 [mg/l]','T [°C]','LF [µS/cm]','pH [--]','Chlorophyll','Abfluss [m³/s]','month_sin','month_cos','day_sin','day_cos','hour_sin','hour_cos']]\n",
    "y_test = df_test[['NO3-N [mg/l]']]"
   ]
  },
  {
   "cell_type": "code",
   "execution_count": 13,
   "metadata": {},
   "outputs": [
    {
     "name": "stdout",
     "output_type": "stream",
     "text": [
      "0.41133238197986244 0.6963975793805469\n"
     ]
    }
   ],
   "source": [
    "from sklearn.linear_model import LinearRegression\n",
    "LR = LinearRegression()\n",
    "from sklearn.metrics import mean_squared_error\n",
    "from sklearn.model_selection import cross_validate\n",
    "from sklearn.model_selection import cross_val_score\n",
    "scores = cross_validate(LR, X_train, y_train, scoring=['neg_mean_squared_error','r2'], cv=5,n_jobs=-1)\n",
    "score = scores['test_neg_mean_squared_error'].mean()\n",
    "r2 = scores['test_r2'].mean()\n",
    "rmse = np.sqrt(abs(score))\n",
    "print(rmse, r2)"
   ]
  },
  {
   "cell_type": "code",
   "execution_count": 14,
   "metadata": {},
   "outputs": [
    {
     "name": "stdout",
     "output_type": "stream",
     "text": [
      "0.09712291324715823 0.9830691320660498\n"
     ]
    }
   ],
   "source": [
    "from sklearn.model_selection import cross_validate\n",
    "from sklearn.ensemble import RandomForestRegressor\n",
    "rf = RandomForestRegressor(n_jobs=-1, max_depth = 10)\n",
    "scores = cross_validate(rf, X_train, y_train, scoring=['neg_mean_squared_error','r2'], cv=5,n_jobs=-1)\n",
    "score = scores['test_neg_mean_squared_error'].mean()\n",
    "r2 = scores['test_r2'].mean()\n",
    "rmse = np.sqrt(abs(score))\n",
    "print(rmse, r2)"
   ]
  },
  {
   "cell_type": "code",
   "execution_count": 15,
   "metadata": {},
   "outputs": [
    {
     "name": "stdout",
     "output_type": "stream",
     "text": [
      "Optimal number of features : 6\n"
     ]
    }
   ],
   "source": [
    "from sklearn.feature_selection import RFECV\n",
    "forest = RandomForestRegressor(n_jobs=-1, max_depth = 10)\n",
    "min_features_to_select = 1  # Minimum number of features to consider\n",
    "rfecv = RFECV(\n",
    "    estimator=forest,\n",
    "    step=1,\n",
    "    cv=5,\n",
    "    scoring='neg_mean_squared_error',\n",
    "    min_features_to_select=min_features_to_select,\n",
    ")\n",
    "rfecv.fit(X_train, y_train)\n",
    "print(\"Optimal number of features : %d\" % rfecv.n_features_)"
   ]
  },
  {
   "cell_type": "code",
   "execution_count": 15,
   "metadata": {},
   "outputs": [
    {
     "data": {
      "text/plain": [
       "array([0.49955826, 0.13662342, 0.06645179, 0.16682941, 0.09358309,\n",
       "       0.03695402])"
      ]
     },
     "execution_count": 15,
     "metadata": {},
     "output_type": "execute_result"
    }
   ],
   "source": [
    "rfecv.estimator_.feature_importances_ "
   ]
  },
  {
   "cell_type": "code",
   "execution_count": 16,
   "metadata": {},
   "outputs": [
    {
     "data": {
      "image/png": "[encoded data removed]",
      "text/plain": [
       "<Figure size 432x288 with 1 Axes>"
      ]
     },
     "metadata": {
      "needs_background": "light"
     },
     "output_type": "display_data"
    }
   ],
   "source": [
    "plt.figure()\n",
    "plt.xlabel(\"Number of features selected\")\n",
    "plt.ylabel(\"Cross validation score \\n of number of selected features\")\n",
    "plt.plot(range(1, len(rfecv.grid_scores_) + 1), rfecv.grid_scores_)\n",
    "plt.show()"
   ]
  },
  {
   "cell_type": "code",
   "execution_count": 17,
   "metadata": {},
   "outputs": [
    {
     "data": {
      "text/plain": [
       "array([0.63385736, 0.75869931, 0.93374301, 0.95280147, 0.97639065,\n",
       "       0.98399404, 0.98026239, 0.9813335 , 0.98124445, 0.98296271,\n",
       "       0.98307969, 0.98341421])"
      ]
     },
     "execution_count": 17,
     "metadata": {},
     "output_type": "execute_result"
    }
   ],
   "source": [
    "rfecv.grid_scores_"
   ]
  },
  {
   "cell_type": "code",
   "execution_count": 16,
   "metadata": {},
   "outputs": [
    {
     "data": {
      "text/plain": [
       "['T [°C]', 'LF [µS/cm]', 'Chlorophyll', 'month_sin', 'month_cos', 'day_sin']"
      ]
     },
     "execution_count": 16,
     "metadata": {},
     "output_type": "execute_result"
    }
   ],
   "source": [
    "features = [f for f,s in zip(X_train.columns, rfecv.support_) if s]\n",
    "features"
   ]
  },
  {
   "cell_type": "code",
   "execution_count": 11,
   "metadata": {},
   "outputs": [],
   "source": [
    "X_train = df_train[['O2 [mg/l]', 'T [°C]', 'LF [µS/cm]', 'Chlorophyll', 'month_sin', 'month_cos']]\n",
    "y_train = df_train[['NO3-N [mg/l]']]\n",
    "\n",
    "X_test = df_test[['O2 [mg/l]', 'T [°C]', 'LF [µS/cm]', 'Chlorophyll', 'month_sin', 'month_cos']]\n",
    "y_test = df_test[['NO3-N [mg/l]']]"
   ]
  },
  {
   "cell_type": "code",
   "execution_count": 23,
   "metadata": {},
   "outputs": [
    {
     "name": "stdout",
     "output_type": "stream",
     "text": [
      "0.09457300819690742 0.9839520956334837\n"
     ]
    }
   ],
   "source": [
    "from sklearn.model_selection import cross_validate\n",
    "from sklearn.ensemble import RandomForestRegressor\n",
    "rf = RandomForestRegressor(n_jobs=-1, max_depth = 10)\n",
    "scores = cross_validate(rf, X_train, y_train, scoring=['neg_mean_squared_error','r2'], cv=5,n_jobs=-1)\n",
    "score = scores['test_neg_mean_squared_error'].mean()\n",
    "r2 = scores['test_r2'].mean()\n",
    "rmse = np.sqrt(abs(score))\n",
    "print(rmse, r2)"
   ]
  },
  {
   "cell_type": "code",
   "execution_count": null,
   "metadata": {},
   "outputs": [],
   "source": []
  },
  {
   "cell_type": "code",
   "execution_count": 13,
   "metadata": {},
   "outputs": [],
   "source": [
    "from sklearn.linear_model import LinearRegression\n",
    "from sklearn.metrics import mean_squared_error\n",
    "from sklearn.model_selection import cross_validate\n",
    "\n",
    "def fit_linear_reg(X,y):\n",
    "    #Fit linear regression model and return RSS and R squared values\n",
    "    LR = LinearRegression()\n",
    "    LR.fit(X,y)\n",
    "    score = mean_squared_error(y,LR.predict(X))\n",
    "    R_squared = LR.score(X,y)\n",
    "\n",
    "    #scores = cross_validate(LR, X, y, scoring=('r2', 'neg_mean_squared_error'), cv=5,n_jobs=-1)\n",
    "    #score = scores['test_neg_mean_squared_error'].mean()\n",
    "    #R_squared = scores['test_r2'].mean()\n",
    "    return score, R_squared"
   ]
  },
  {
   "cell_type": "code",
   "execution_count": 14,
   "metadata": {},
   "outputs": [],
   "source": [
    "import itertools\n",
    "remaining_features = list(X_train.columns.values)\n",
    "features = []\n",
    "score_list, R_squared_list = [np.inf], [np.inf] #Due to 1 indexing of the loop...\n",
    "features_list = dict()\n",
    "k=14\n",
    "\n",
    "for i in range(1,k+1):\n",
    "    best_score = np.inf\n",
    "    \n",
    "    for combo in itertools.combinations(remaining_features,1):\n",
    "\n",
    "            score = fit_linear_reg(X_train[list(combo) + features],y_train)   #Store temp result \n",
    "\n",
    "            if score[0] < best_score:\n",
    "                best_score = score[0]\n",
    "                best_R_squared = score[1] \n",
    "                best_feature = combo[0]\n",
    "\n",
    "    #Updating variables for next loop\n",
    "    features.append(best_feature)\n",
    "    remaining_features.remove(best_feature)\n",
    "    \n",
    "    #Saving values for plotting\n",
    "    score_list.append(best_score)\n",
    "    R_squared_list.append(best_R_squared)\n",
    "    features_list[i] = features.copy()"
   ]
  },
  {
   "cell_type": "code",
   "execution_count": 15,
   "metadata": {},
   "outputs": [],
   "source": [
    "df1 = pd.concat([pd.DataFrame({'features':features_list}),pd.DataFrame({'MSE':score_list, 'R_squared': R_squared_list})], axis=1, join='inner')\n",
    "df1['numb_features'] = df1.index"
   ]
  },
  {
   "cell_type": "code",
   "execution_count": 16,
   "metadata": {},
   "outputs": [
    {
     "data": {
      "text/html": [
       "<div>\n",
       "<style scoped>\n",
       "    .dataframe tbody tr th:only-of-type {\n",
       "        vertical-align: middle;\n",
       "    }\n",
       "\n",
       "    .dataframe tbody tr th {\n",
       "        vertical-align: top;\n",
       "    }\n",
       "\n",
       "    .dataframe thead th {\n",
       "        text-align: right;\n",
       "    }\n",
       "</style>\n",
       "<table border=\"1\" class=\"dataframe\">\n",
       "  <thead>\n",
       "    <tr style=\"text-align: right;\">\n",
       "      <th></th>\n",
       "      <th>features</th>\n",
       "      <th>MSE</th>\n",
       "      <th>R_squared</th>\n",
       "      <th>numb_features</th>\n",
       "      <th>R_squared_adj</th>\n",
       "      <th>RMSE</th>\n",
       "    </tr>\n",
       "  </thead>\n",
       "  <tbody>\n",
       "    <tr>\n",
       "      <th>1</th>\n",
       "      <td>[mnth_cos]</td>\n",
       "      <td>0.244838</td>\n",
       "      <td>0.560660</td>\n",
       "      <td>1</td>\n",
       "      <td>0.560655</td>\n",
       "      <td>0.494811</td>\n",
       "    </tr>\n",
       "    <tr>\n",
       "      <th>2</th>\n",
       "      <td>[mnth_cos, mnth_sin]</td>\n",
       "      <td>0.193391</td>\n",
       "      <td>0.652977</td>\n",
       "      <td>2</td>\n",
       "      <td>0.652969</td>\n",
       "      <td>0.439763</td>\n",
       "    </tr>\n",
       "    <tr>\n",
       "      <th>3</th>\n",
       "      <td>[mnth_cos, mnth_sin, Abfluss [m³/s]]</td>\n",
       "      <td>0.186264</td>\n",
       "      <td>0.665767</td>\n",
       "      <td>3</td>\n",
       "      <td>0.665755</td>\n",
       "      <td>0.431583</td>\n",
       "    </tr>\n",
       "    <tr>\n",
       "      <th>4</th>\n",
       "      <td>[mnth_cos, mnth_sin, Abfluss [m³/s], LF [µS/cm]]</td>\n",
       "      <td>0.181382</td>\n",
       "      <td>0.674527</td>\n",
       "      <td>4</td>\n",
       "      <td>0.674512</td>\n",
       "      <td>0.425889</td>\n",
       "    </tr>\n",
       "    <tr>\n",
       "      <th>5</th>\n",
       "      <td>[mnth_cos, mnth_sin, Abfluss [m³/s], LF [µS/cm...</td>\n",
       "      <td>0.176862</td>\n",
       "      <td>0.682637</td>\n",
       "      <td>5</td>\n",
       "      <td>0.682618</td>\n",
       "      <td>0.420550</td>\n",
       "    </tr>\n",
       "    <tr>\n",
       "      <th>6</th>\n",
       "      <td>[mnth_cos, mnth_sin, Abfluss [m³/s], LF [µS/cm...</td>\n",
       "      <td>0.171454</td>\n",
       "      <td>0.692341</td>\n",
       "      <td>6</td>\n",
       "      <td>0.692319</td>\n",
       "      <td>0.414070</td>\n",
       "    </tr>\n",
       "    <tr>\n",
       "      <th>7</th>\n",
       "      <td>[mnth_cos, mnth_sin, Abfluss [m³/s], LF [µS/cm...</td>\n",
       "      <td>0.171111</td>\n",
       "      <td>0.692957</td>\n",
       "      <td>7</td>\n",
       "      <td>0.692933</td>\n",
       "      <td>0.413655</td>\n",
       "    </tr>\n",
       "    <tr>\n",
       "      <th>8</th>\n",
       "      <td>[mnth_cos, mnth_sin, Abfluss [m³/s], LF [µS/cm...</td>\n",
       "      <td>0.171015</td>\n",
       "      <td>0.693129</td>\n",
       "      <td>8</td>\n",
       "      <td>0.693101</td>\n",
       "      <td>0.413539</td>\n",
       "    </tr>\n",
       "    <tr>\n",
       "      <th>9</th>\n",
       "      <td>[mnth_cos, mnth_sin, Abfluss [m³/s], LF [µS/cm...</td>\n",
       "      <td>0.170971</td>\n",
       "      <td>0.693208</td>\n",
       "      <td>9</td>\n",
       "      <td>0.693176</td>\n",
       "      <td>0.413486</td>\n",
       "    </tr>\n",
       "    <tr>\n",
       "      <th>10</th>\n",
       "      <td>[mnth_cos, mnth_sin, Abfluss [m³/s], LF [µS/cm...</td>\n",
       "      <td>0.170927</td>\n",
       "      <td>0.693286</td>\n",
       "      <td>10</td>\n",
       "      <td>0.693251</td>\n",
       "      <td>0.413434</td>\n",
       "    </tr>\n",
       "    <tr>\n",
       "      <th>11</th>\n",
       "      <td>[mnth_cos, mnth_sin, Abfluss [m³/s], LF [µS/cm...</td>\n",
       "      <td>0.170904</td>\n",
       "      <td>0.693329</td>\n",
       "      <td>11</td>\n",
       "      <td>0.693290</td>\n",
       "      <td>0.413405</td>\n",
       "    </tr>\n",
       "    <tr>\n",
       "      <th>12</th>\n",
       "      <td>[mnth_cos, mnth_sin, Abfluss [m³/s], LF [µS/cm...</td>\n",
       "      <td>0.170897</td>\n",
       "      <td>0.693340</td>\n",
       "      <td>12</td>\n",
       "      <td>0.693298</td>\n",
       "      <td>0.413397</td>\n",
       "    </tr>\n",
       "    <tr>\n",
       "      <th>13</th>\n",
       "      <td>[mnth_cos, mnth_sin, Abfluss [m³/s], LF [µS/cm...</td>\n",
       "      <td>0.170897</td>\n",
       "      <td>0.693340</td>\n",
       "      <td>13</td>\n",
       "      <td>0.693295</td>\n",
       "      <td>0.413397</td>\n",
       "    </tr>\n",
       "    <tr>\n",
       "      <th>14</th>\n",
       "      <td>[mnth_cos, mnth_sin, Abfluss [m³/s], LF [µS/cm...</td>\n",
       "      <td>0.170897</td>\n",
       "      <td>0.693341</td>\n",
       "      <td>14</td>\n",
       "      <td>0.693291</td>\n",
       "      <td>0.413397</td>\n",
       "    </tr>\n",
       "  </tbody>\n",
       "</table>\n",
       "</div>"
      ],
      "text/plain": [
       "                                             features       MSE  R_squared  \\\n",
       "1                                          [mnth_cos]  0.244838   0.560660   \n",
       "2                                [mnth_cos, mnth_sin]  0.193391   0.652977   \n",
       "3                [mnth_cos, mnth_sin, Abfluss [m³/s]]  0.186264   0.665767   \n",
       "4    [mnth_cos, mnth_sin, Abfluss [m³/s], LF [µS/cm]]  0.181382   0.674527   \n",
       "5   [mnth_cos, mnth_sin, Abfluss [m³/s], LF [µS/cm...  0.176862   0.682637   \n",
       "6   [mnth_cos, mnth_sin, Abfluss [m³/s], LF [µS/cm...  0.171454   0.692341   \n",
       "7   [mnth_cos, mnth_sin, Abfluss [m³/s], LF [µS/cm...  0.171111   0.692957   \n",
       "8   [mnth_cos, mnth_sin, Abfluss [m³/s], LF [µS/cm...  0.171015   0.693129   \n",
       "9   [mnth_cos, mnth_sin, Abfluss [m³/s], LF [µS/cm...  0.170971   0.693208   \n",
       "10  [mnth_cos, mnth_sin, Abfluss [m³/s], LF [µS/cm...  0.170927   0.693286   \n",
       "11  [mnth_cos, mnth_sin, Abfluss [m³/s], LF [µS/cm...  0.170904   0.693329   \n",
       "12  [mnth_cos, mnth_sin, Abfluss [m³/s], LF [µS/cm...  0.170897   0.693340   \n",
       "13  [mnth_cos, mnth_sin, Abfluss [m³/s], LF [µS/cm...  0.170897   0.693340   \n",
       "14  [mnth_cos, mnth_sin, Abfluss [m³/s], LF [µS/cm...  0.170897   0.693341   \n",
       "\n",
       "    numb_features  R_squared_adj      RMSE  \n",
       "1               1       0.560655  0.494811  \n",
       "2               2       0.652969  0.439763  \n",
       "3               3       0.665755  0.431583  \n",
       "4               4       0.674512  0.425889  \n",
       "5               5       0.682618  0.420550  \n",
       "6               6       0.692319  0.414070  \n",
       "7               7       0.692933  0.413655  \n",
       "8               8       0.693101  0.413539  \n",
       "9               9       0.693176  0.413486  \n",
       "10             10       0.693251  0.413434  \n",
       "11             11       0.693290  0.413405  \n",
       "12             12       0.693298  0.413397  \n",
       "13             13       0.693295  0.413397  \n",
       "14             14       0.693291  0.413397  "
      ]
     },
     "execution_count": 16,
     "metadata": {},
     "output_type": "execute_result"
    }
   ],
   "source": [
    "#Initializing useful variables\n",
    "m = len(y_train)\n",
    "\n",
    "#Computing\n",
    "df1['R_squared_adj'] = 1 - ( (1 - df1['R_squared'])*(m-1)/(m-df1['numb_features'] -1))\n",
    "df1['RMSE'] = np.sqrt(abs(df1['MSE']))\n",
    "df1"
   ]
  },
  {
   "cell_type": "code",
   "execution_count": 17,
   "metadata": {},
   "outputs": [
    {
     "data": {
      "image/png": "[encoded data removed]",
      "text/plain": [
       "<Figure size 2880x720 with 2 Axes>"
      ]
     },
     "metadata": {
      "needs_background": "light"
     },
     "output_type": "display_data"
    }
   ],
   "source": [
    "variables = ['R_squared_adj','RMSE']\n",
    "fig = plt.figure(figsize = (40,10))\n",
    "\n",
    "for i,v in enumerate(variables):\n",
    "    ax = fig.add_subplot(1, 4, i+1)\n",
    "    ax.plot(df1['numb_features'],df1[v], color = 'lightblue')\n",
    "    ax.scatter(df1['numb_features'],df1[v], color = 'darkblue')\n",
    "    if v == 'R_squared_adj':\n",
    "        ax.plot(df1[v].idxmax(),df1[v].max(), marker = 'x', markersize = 20)\n",
    "    else:\n",
    "        ax.plot(df1[v].idxmin(),df1[v].min(), marker = 'x', markersize = 20)\n",
    "    ax.set_xlabel('Number of predictors')\n",
    "    ax.set_ylabel(v)\n",
    "\n",
    "fig.suptitle('Subset selection using Adjusted R2', fontsize = 16)\n",
    "plt.show()"
   ]
  },
  {
   "cell_type": "code",
   "execution_count": 18,
   "metadata": {},
   "outputs": [
    {
     "name": "stdout",
     "output_type": "stream",
     "text": [
      "Forward stepwise subset selection\n",
      "Number of features | Features | MSE\n"
     ]
    },
    {
     "data": {
      "text/plain": [
       "[(1, ['mnth_cos'], 0),\n",
       " (2, ['mnth_cos', 'mnth_sin'], 0),\n",
       " (3, ['mnth_cos', 'mnth_sin', 'Abfluss [m³/s]'], 0),\n",
       " (4, ['mnth_cos', 'mnth_sin', 'Abfluss [m³/s]', 'LF [µS/cm]'], 0),\n",
       " (5,\n",
       "  ['mnth_cos', 'mnth_sin', 'Abfluss [m³/s]', 'LF [µS/cm]', 'Chlorophyll'],\n",
       "  0),\n",
       " (6,\n",
       "  ['mnth_cos',\n",
       "   'mnth_sin',\n",
       "   'Abfluss [m³/s]',\n",
       "   'LF [µS/cm]',\n",
       "   'Chlorophyll',\n",
       "   'O2 [mg/l]'],\n",
       "  0),\n",
       " (7,\n",
       "  ['mnth_cos',\n",
       "   'mnth_sin',\n",
       "   'Abfluss [m³/s]',\n",
       "   'LF [µS/cm]',\n",
       "   'Chlorophyll',\n",
       "   'O2 [mg/l]',\n",
       "   'pH [--]'],\n",
       "  0),\n",
       " (8,\n",
       "  ['mnth_cos',\n",
       "   'mnth_sin',\n",
       "   'Abfluss [m³/s]',\n",
       "   'LF [µS/cm]',\n",
       "   'Chlorophyll',\n",
       "   'O2 [mg/l]',\n",
       "   'pH [--]',\n",
       "   'hr_sin'],\n",
       "  0),\n",
       " (9,\n",
       "  ['mnth_cos',\n",
       "   'mnth_sin',\n",
       "   'Abfluss [m³/s]',\n",
       "   'LF [µS/cm]',\n",
       "   'Chlorophyll',\n",
       "   'O2 [mg/l]',\n",
       "   'pH [--]',\n",
       "   'hr_sin',\n",
       "   'hr_cos'],\n",
       "  0),\n",
       " (10,\n",
       "  ['mnth_cos',\n",
       "   'mnth_sin',\n",
       "   'Abfluss [m³/s]',\n",
       "   'LF [µS/cm]',\n",
       "   'Chlorophyll',\n",
       "   'O2 [mg/l]',\n",
       "   'pH [--]',\n",
       "   'hr_sin',\n",
       "   'hr_cos',\n",
       "   'T [°C]'],\n",
       "  0),\n",
       " (11,\n",
       "  ['mnth_cos',\n",
       "   'mnth_sin',\n",
       "   'Abfluss [m³/s]',\n",
       "   'LF [µS/cm]',\n",
       "   'Chlorophyll',\n",
       "   'O2 [mg/l]',\n",
       "   'pH [--]',\n",
       "   'hr_sin',\n",
       "   'hr_cos',\n",
       "   'T [°C]',\n",
       "   'd_cos'],\n",
       "  0),\n",
       " (12,\n",
       "  ['mnth_cos',\n",
       "   'mnth_sin',\n",
       "   'Abfluss [m³/s]',\n",
       "   'LF [µS/cm]',\n",
       "   'Chlorophyll',\n",
       "   'O2 [mg/l]',\n",
       "   'pH [--]',\n",
       "   'hr_sin',\n",
       "   'hr_cos',\n",
       "   'T [°C]',\n",
       "   'd_cos',\n",
       "   'd_sin'],\n",
       "  0),\n",
       " (13,\n",
       "  ['mnth_cos',\n",
       "   'mnth_sin',\n",
       "   'Abfluss [m³/s]',\n",
       "   'LF [µS/cm]',\n",
       "   'Chlorophyll',\n",
       "   'O2 [mg/l]',\n",
       "   'pH [--]',\n",
       "   'hr_sin',\n",
       "   'hr_cos',\n",
       "   'T [°C]',\n",
       "   'd_cos',\n",
       "   'd_sin',\n",
       "   'minute_cos'],\n",
       "  0)]"
      ]
     },
     "metadata": {},
     "output_type": "display_data"
    }
   ],
   "source": [
    "print('Forward stepwise subset selection')\n",
    "print('Number of features |', 'Features |', 'MSE')\n",
    "display([(i,features_list[i], round(score_list[i])) for i in range(1,14)])"
   ]
  },
  {
   "cell_type": "code",
   "execution_count": 19,
   "metadata": {},
   "outputs": [],
   "source": [
    "X_train = df_train[['mnth_cos',\n",
    "   'mnth_sin',\n",
    "   'Abfluss [m³/s]',\n",
    "   'LF [µS/cm]',\n",
    "   'Chlorophyll',\n",
    "   'O2 [mg/l]',\n",
    "   'pH [--]',\n",
    "   'hr_sin',\n",
    "   'hr_cos',\n",
    "   'T [°C]',\n",
    "   'd_cos',\n",
    "   'd_sin']]\n",
    "y_train = df_train[['NO3-N [mg/l]']]\n",
    "\n",
    "X_test = df_test[['mnth_cos',\n",
    "   'mnth_sin',\n",
    "   'Abfluss [m³/s]',\n",
    "   'LF [µS/cm]',\n",
    "   'Chlorophyll',\n",
    "   'O2 [mg/l]',\n",
    "   'pH [--]',\n",
    "   'hr_sin',\n",
    "   'hr_cos',\n",
    "   'T [°C]',\n",
    "   'd_cos',\n",
    "   'd_sin']]\n",
    "y_test = df_test[['NO3-N [mg/l]']]"
   ]
  },
  {
   "cell_type": "code",
   "execution_count": 19,
   "metadata": {},
   "outputs": [
    {
     "name": "stdout",
     "output_type": "stream",
     "text": [
      "0.40910780979827316 0.6998093757141399\n"
     ]
    }
   ],
   "source": [
    "from sklearn.linear_model import LinearRegression\n",
    "from sklearn.metrics import mean_squared_error\n",
    "LR = LinearRegression()\n",
    "best_LR = LR.fit(X_train, y_train)\n",
    "y_LR = best_LR.predict(X_test)\n",
    "r2_lr = r2_score(y_test,y_LR)\n",
    "RMSE = np.sqrt(mean_squared_error(y_test,y_LR))\n",
    "print(RMSE, r2_lr)"
   ]
  },
  {
   "cell_type": "code",
   "execution_count": 15,
   "metadata": {},
   "outputs": [
    {
     "name": "stdout",
     "output_type": "stream",
     "text": [
      "0.4948267122291197 0.5606333896490996\n"
     ]
    }
   ],
   "source": [
    "X_train = df_train[['mnth_cos']]\n",
    "y_train = df_train[['NO3-N [mg/l]']]\n",
    "from sklearn.linear_model import LinearRegression\n",
    "LR = LinearRegression()\n",
    "from sklearn.metrics import mean_squared_error\n",
    "from sklearn.model_selection import cross_validate\n",
    "from sklearn.model_selection import cross_val_score\n",
    "scores = cross_validate(LR, X_train, y_train, scoring=['neg_mean_squared_error','r2'], cv=5,n_jobs=-1)\n",
    "score = scores['test_neg_mean_squared_error'].mean()\n",
    "r21 = scores['test_r2'].mean()\n",
    "rmse1 = np.sqrt(abs(score))\n",
    "print(rmse1, r21)"
   ]
  },
  {
   "cell_type": "code",
   "execution_count": 16,
   "metadata": {},
   "outputs": [
    {
     "name": "stdout",
     "output_type": "stream",
     "text": [
      "0.5172040931559885 0.5199759300805975\n"
     ]
    }
   ],
   "source": [
    "X_train = df_train[['T [°C]']]\n",
    "y_train = df_train[['NO3-N [mg/l]']]\n",
    "\n",
    "from sklearn.model_selection import cross_val_score\n",
    "scores = cross_validate(LR, X_train, y_train, scoring=['neg_mean_squared_error','r2'], cv=5,n_jobs=-1)\n",
    "score = scores['test_neg_mean_squared_error'].mean()\n",
    "r22 = scores['test_r2'].mean()\n",
    "rmse2 = np.sqrt(abs(score))\n",
    "print(rmse2, r22)"
   ]
  },
  {
   "cell_type": "code",
   "execution_count": 17,
   "metadata": {},
   "outputs": [
    {
     "name": "stdout",
     "output_type": "stream",
     "text": [
      "0.5137822502612779 0.5263199689465974\n"
     ]
    }
   ],
   "source": [
    "X_train = df_train[['O2 [mg/l]','T [°C]']]\n",
    "y_train = df_train[['NO3-N [mg/l]']]\n",
    "\n",
    "from sklearn.model_selection import cross_val_score\n",
    "scores = cross_validate(LR, X_train, y_train, scoring=['neg_mean_squared_error','r2'], cv=5,n_jobs=-1)\n",
    "score = scores['test_neg_mean_squared_error'].mean()\n",
    "r23 = scores['test_r2'].mean()\n",
    "rmse3 = np.sqrt(abs(score))\n",
    "print(rmse3, r23)"
   ]
  },
  {
   "cell_type": "code",
   "execution_count": 18,
   "metadata": {},
   "outputs": [
    {
     "name": "stdout",
     "output_type": "stream",
     "text": [
      "0.4916373388294615 0.5662695939731985\n"
     ]
    }
   ],
   "source": [
    "X_train = df_train[['O2 [mg/l]','T [°C]','Abfluss [m³/s]']]\n",
    "y_train = df_train[['NO3-N [mg/l]']]\n",
    "\n",
    "from sklearn.model_selection import cross_val_score\n",
    "scores = cross_validate(LR, X_train, y_train, scoring=['neg_mean_squared_error','r2'], cv=5,n_jobs=-1)\n",
    "score = scores['test_neg_mean_squared_error'].mean()\n",
    "r24 = scores['test_r2'].mean()\n",
    "rmse4 = np.sqrt(abs(score))\n",
    "print(rmse4, r24)"
   ]
  },
  {
   "cell_type": "code",
   "execution_count": 19,
   "metadata": {},
   "outputs": [
    {
     "name": "stdout",
     "output_type": "stream",
     "text": [
      "0.48405998481373047 0.5795287379810511\n"
     ]
    }
   ],
   "source": [
    "X_train = df_train[['O2 [mg/l]','T [°C]','Chlorophyll','Abfluss [m³/s]']]\n",
    "y_train = df_train[['NO3-N [mg/l]']]\n",
    "\n",
    "from sklearn.model_selection import cross_val_score\n",
    "scores = cross_validate(LR, X_train, y_train, scoring=['neg_mean_squared_error','r2'], cv=5,n_jobs=-1)\n",
    "score = scores['test_neg_mean_squared_error'].mean()\n",
    "r25 = scores['test_r2'].mean()\n",
    "rmse5 = np.sqrt(abs(score))\n",
    "print(rmse5, r25)"
   ]
  },
  {
   "cell_type": "code",
   "execution_count": 70,
   "metadata": {},
   "outputs": [
    {
     "name": "stdout",
     "output_type": "stream",
     "text": [
      "0.42175006397256604 0.6808219239508048\n"
     ]
    }
   ],
   "source": [
    "X_train = df_train[['O2 [mg/l]','T [°C]','Chlorophyll','Abfluss [m³/s]','mnth_sin','mnth_cos']]\n",
    "y_train = df_train[['NO3-N [mg/l]']]\n",
    "\n",
    "from sklearn.model_selection import cross_val_score\n",
    "scores = cross_validate(LR, X_train, y_train, scoring=['neg_mean_squared_error','r2'], cv=5,n_jobs=-1)\n",
    "score = scores['test_neg_mean_squared_error'].mean()\n",
    "r26 = scores['test_r2'].mean()\n",
    "rmse6 = np.sqrt(abs(score))\n",
    "print(rmse6, r26)"
   ]
  },
  {
   "cell_type": "code",
   "execution_count": 20,
   "metadata": {},
   "outputs": [
    {
     "name": "stdout",
     "output_type": "stream",
     "text": [
      "0.46204145911590255 0.6169201801517408\n"
     ]
    }
   ],
   "source": [
    "X_train = df_train[['O2 [mg/l]','T [°C]','LF [µS/cm]','Chlorophyll','Abfluss [m³/s]']]\n",
    "y_train = df_train[['NO3-N [mg/l]']]\n",
    "\n",
    "from sklearn.model_selection import cross_val_score\n",
    "scores = cross_validate(LR, X_train, y_train, scoring=['neg_mean_squared_error','r2'], cv=5,n_jobs=-1)\n",
    "score = scores['test_neg_mean_squared_error'].mean()\n",
    "r27 = scores['test_r2'].mean()\n",
    "rmse7 = np.sqrt(abs(score))\n",
    "print(rmse7, r27)"
   ]
  },
  {
   "cell_type": "code",
   "execution_count": 21,
   "metadata": {},
   "outputs": [
    {
     "name": "stdout",
     "output_type": "stream",
     "text": [
      "0.4618392246950025 0.6172552127130302\n"
     ]
    }
   ],
   "source": [
    "X_train = df_train[['O2 [mg/l]','T [°C]','LF [µS/cm]','pH [--]','Chlorophyll','Abfluss [m³/s]']]\n",
    "y_train = df_train[['NO3-N [mg/l]']]\n",
    "\n",
    "from sklearn.model_selection import cross_val_score\n",
    "scores = cross_validate(LR, X_train, y_train, scoring=['neg_mean_squared_error','r2'], cv=5,n_jobs=-1)\n",
    "score = scores['test_neg_mean_squared_error'].mean()\n",
    "r28 = scores['test_r2'].mean()\n",
    "rmse8 = np.sqrt(abs(score))\n",
    "print(rmse8, r28)"
   ]
  },
  {
   "cell_type": "code",
   "execution_count": 73,
   "metadata": {},
   "outputs": [
    {
     "name": "stdout",
     "output_type": "stream",
     "text": [
      "0.4136960272478102 0.6928979893362257\n"
     ]
    }
   ],
   "source": [
    "X_train = df_train[['O2 [mg/l]','T [°C]','LF [µS/cm]','pH [--]','Chlorophyll','Abfluss [m³/s]','mnth_sin','mnth_cos','d_sin']]\n",
    "y_train = df_train[['NO3-N [mg/l]']]\n",
    "\n",
    "from sklearn.model_selection import cross_val_score\n",
    "scores = cross_validate(LR, X_train, y_train, scoring=['neg_mean_squared_error','r2'], cv=5,n_jobs=-1)\n",
    "score = scores['test_neg_mean_squared_error'].mean()\n",
    "r29 = scores['test_r2'].mean()\n",
    "rmse9 = np.sqrt(abs(score))\n",
    "print(rmse9, r29)"
   ]
  },
  {
   "cell_type": "code",
   "execution_count": 74,
   "metadata": {},
   "outputs": [
    {
     "name": "stdout",
     "output_type": "stream",
     "text": [
      "0.41367063284362693 0.6929358331974457\n"
     ]
    }
   ],
   "source": [
    "X_train = df_train[['O2 [mg/l]','T [°C]','LF [µS/cm]','pH [--]','Chlorophyll','Abfluss [m³/s]','mnth_sin','mnth_cos','d_sin','d_cos']]\n",
    "y_train = df_train[['NO3-N [mg/l]']]\n",
    "\n",
    "from sklearn.model_selection import cross_val_score\n",
    "scores = cross_validate(LR, X_train, y_train, scoring=['neg_mean_squared_error','r2'], cv=5,n_jobs=-1)\n",
    "score = scores['test_neg_mean_squared_error'].mean()\n",
    "r210 = scores['test_r2'].mean()\n",
    "rmse10 = np.sqrt(abs(score))\n",
    "print(rmse10, r210)"
   ]
  },
  {
   "cell_type": "code",
   "execution_count": 75,
   "metadata": {},
   "outputs": [
    {
     "name": "stdout",
     "output_type": "stream",
     "text": [
      "0.4136241274885133 0.6930049738568932\n"
     ]
    }
   ],
   "source": [
    "X_train = df_train[['O2 [mg/l]','T [°C]','LF [µS/cm]','pH [--]','Chlorophyll','Abfluss [m³/s]','mnth_sin','mnth_cos','d_sin','d_cos','hr_cos']]\n",
    "y_train = df_train[['NO3-N [mg/l]']]\n",
    "\n",
    "from sklearn.model_selection import cross_val_score\n",
    "scores = cross_validate(LR, X_train, y_train, scoring=['neg_mean_squared_error','r2'], cv=5,n_jobs=-1)\n",
    "score = scores['test_neg_mean_squared_error'].mean()\n",
    "r211 = scores['test_r2'].mean()\n",
    "rmse11 = np.sqrt(abs(score))\n",
    "print(rmse11, r211)"
   ]
  },
  {
   "cell_type": "code",
   "execution_count": 76,
   "metadata": {},
   "outputs": [
    {
     "name": "stdout",
     "output_type": "stream",
     "text": [
      "0.41349057054794713 0.6932025715907607\n"
     ]
    }
   ],
   "source": [
    "X_train = df_train[['O2 [mg/l]','T [°C]','LF [µS/cm]','pH [--]','Chlorophyll','Abfluss [m³/s]','mnth_sin','mnth_cos','d_sin','d_cos','hr_cos','hr_sin']]\n",
    "y_train = df_train[['NO3-N [mg/l]']]\n",
    "\n",
    "from sklearn.model_selection import cross_val_score\n",
    "scores = cross_validate(LR, X_train, y_train, scoring=['neg_mean_squared_error','r2'], cv=5,n_jobs=-1)\n",
    "score = scores['test_neg_mean_squared_error'].mean()\n",
    "r212 = scores['test_r2'].mean()\n",
    "rmse12 = np.sqrt(abs(score))\n",
    "print(rmse12, r212)"
   ]
  },
  {
   "cell_type": "code",
   "execution_count": 77,
   "metadata": {},
   "outputs": [
    {
     "name": "stdout",
     "output_type": "stream",
     "text": [
      "0.4135050172188605 0.6931809476452004\n"
     ]
    }
   ],
   "source": [
    "X_train = df_train[['O2 [mg/l]','T [°C]','LF [µS/cm]','pH [--]','Chlorophyll','Abfluss [m³/s]','mnth_sin','mnth_cos','d_sin','d_cos','hr_cos','hr_sin','minute_sin']]\n",
    "y_train = df_train[['NO3-N [mg/l]']]\n",
    "\n",
    "from sklearn.model_selection import cross_val_score\n",
    "scores = cross_validate(LR, X_train, y_train, scoring=['neg_mean_squared_error','r2'], cv=5,n_jobs=-1)\n",
    "score = scores['test_neg_mean_squared_error'].mean()\n",
    "r213 = scores['test_r2'].mean()\n",
    "rmse13 = np.sqrt(abs(score))\n",
    "print(rmse13, r213)"
   ]
  },
  {
   "cell_type": "code",
   "execution_count": 78,
   "metadata": {},
   "outputs": [
    {
     "name": "stdout",
     "output_type": "stream",
     "text": [
      "0.41351453426847873 0.6931668173772824\n"
     ]
    }
   ],
   "source": [
    "X_train = df_train[['O2 [mg/l]','T [°C]','LF [µS/cm]','pH [--]','Chlorophyll','Abfluss [m³/s]','mnth_sin','mnth_cos','d_sin','d_cos','hr_cos','hr_sin','minute_sin','minute_cos']]\n",
    "y_train = df_train[['NO3-N [mg/l]']]\n",
    "\n",
    "from sklearn.model_selection import cross_val_score\n",
    "scores = cross_validate(LR, X_train, y_train, scoring=['neg_mean_squared_error','r2'], cv=5,n_jobs=-1)\n",
    "score = scores['test_neg_mean_squared_error'].mean()\n",
    "r214 = scores['test_r2'].mean()\n",
    "rmse14 = np.sqrt(abs(score))\n",
    "print(rmse14, r214)"
   ]
  },
  {
   "cell_type": "code",
   "execution_count": 88,
   "metadata": {},
   "outputs": [
    {
     "data": {
      "text/plain": [
       "[<matplotlib.lines.Line2D at 0x210b87a6c10>]"
      ]
     },
     "execution_count": 88,
     "metadata": {},
     "output_type": "execute_result"
    },
    {
     "data": {
      "image/png": "[encoded data removed]",
      "text/plain": [
       "<Figure size 792x360 with 1 Axes>"
      ]
     },
     "metadata": {
      "needs_background": "light"
     },
     "output_type": "display_data"
    }
   ],
   "source": [
    "plt.figure(figsize=(11,5))\n",
    "plt.xticks(range(1,15))\n",
    "plt.xlabel('Number of variables')\n",
    "plt.ylabel('RMSE')\n",
    "plt.plot([1,2,3,4,5,6,7,8,9,10,11,12,13,14],[rmse1, rmse2, rmse3, rmse4, rmse5, rmse6, rmse7, rmse8,rmse9,rmse10,rmse11,rmse12,rmse13,rmse14])"
   ]
  },
  {
   "cell_type": "code",
   "execution_count": 89,
   "metadata": {},
   "outputs": [
    {
     "data": {
      "text/plain": [
       "[<matplotlib.lines.Line2D at 0x210b863dac0>]"
      ]
     },
     "execution_count": 89,
     "metadata": {},
     "output_type": "execute_result"
    },
    {
     "data": {
      "image/png": "[encoded data removed]",
      "text/plain": [
       "<Figure size 792x360 with 1 Axes>"
      ]
     },
     "metadata": {
      "needs_background": "light"
     },
     "output_type": "display_data"
    }
   ],
   "source": [
    "plt.figure(figsize=(11,5))\n",
    "plt.xticks(range(1,15))\n",
    "plt.xlabel('Number of variables')\n",
    "plt.ylabel('R Squared')\n",
    "plt.plot([1,2,3,4,5,6,7,8,9,10,11,12,13,14],[r21,r22,r23,r24,r25,r26,r27,r28,r29,r210,r211,r212,r213,r214])"
   ]
  },
  {
   "cell_type": "code",
   "execution_count": 85,
   "metadata": {},
   "outputs": [
    {
     "name": "stdout",
     "output_type": "stream",
     "text": [
      "0.4111956234528229 0.6967376117131157\n"
     ]
    }
   ],
   "source": [
    "X_train = df_train[['O2 [mg/l]','T [°C]','LF [µS/cm]','pH [--]','Chlorophyll','Abfluss [m³/s]','mnth_sin','mnth_cos','d_sin','d_cos','hr_cos','hr_sin']]\n",
    "y_train = df_train[['NO3-N [mg/l]']]\n",
    "\n",
    "X_test = df_test[['O2 [mg/l]','T [°C]','LF [µS/cm]','pH [--]','Chlorophyll','Abfluss [m³/s]','mnth_sin','mnth_cos','d_sin','d_cos','hr_cos','hr_sin']]\n",
    "y_test = df_test[['NO3-N [mg/l]']]\n",
    "\n",
    "from sklearn.metrics import r2_score\n",
    "\n",
    "linear = LinearRegression()\n",
    "best_LR = linear.fit(X_train,y_train)\n",
    "y_LR = best_LR.predict(X_test)\n",
    "RMSE_LR = np.sqrt(mean_squared_error(y_test,y_LR))\n",
    "r2 = r2_score(y_test,y_LR)\n",
    "print(RMSE_LR,r2)"
   ]
  },
  {
   "cell_type": "code",
   "execution_count": 90,
   "metadata": {},
   "outputs": [],
   "source": [
    "X = df[['O2 [mg/l]','T [°C]','LF [µS/cm]','pH [--]','Chlorophyll','Abfluss [m³/s]','mnth_sin','mnth_cos','d_sin','d_cos','hr_sin','hr_cos','minute_sin','minute_cos']]\n",
    "y = df[['NO3-N [mg/l]']]"
   ]
  },
  {
   "cell_type": "code",
   "execution_count": 91,
   "metadata": {},
   "outputs": [
    {
     "name": "stdout",
     "output_type": "stream",
     "text": [
      "Column: 0, Selected True, Rank: 1.000\n",
      "Column: 1, Selected True, Rank: 1.000\n",
      "Column: 2, Selected True, Rank: 1.000\n",
      "Column: 3, Selected False, Rank: 3.000\n",
      "Column: 4, Selected True, Rank: 1.000\n",
      "Column: 5, Selected False, Rank: 2.000\n",
      "Column: 6, Selected True, Rank: 1.000\n",
      "Column: 7, Selected True, Rank: 1.000\n",
      "Column: 8, Selected False, Rank: 5.000\n",
      "Column: 9, Selected False, Rank: 4.000\n",
      "Column: 10, Selected False, Rank: 6.000\n",
      "Column: 11, Selected False, Rank: 7.000\n",
      "Column: 12, Selected False, Rank: 9.000\n",
      "Column: 13, Selected False, Rank: 8.000\n"
     ]
    }
   ],
   "source": [
    "from sklearn.ensemble import RandomForestRegressor\n",
    "forest = RandomForestRegressor(n_jobs=-1, max_depth = 10)\n",
    "forest.fit(X, y)\n",
    "\n",
    "from sklearn.feature_selection import RFE\n",
    "\n",
    "# define RFE\n",
    "rfe = RFE(forest, n_features_to_select=6)\n",
    "\n",
    "# fit RFE\n",
    "rfe.fit(X, y)\n",
    "\n",
    "# summarize all features\n",
    "for i in range(X.shape[1]):\n",
    "    print('Column: %d, Selected %s, Rank: %.3f' % (i, rfe.support_[i], rfe.ranking_[i]))"
   ]
  },
  {
   "cell_type": "code",
   "execution_count": 11,
   "metadata": {},
   "outputs": [],
   "source": [
    "from sklearn.ensemble import RandomForestRegressor\n",
    "rf = RandomForestRegressor(n_jobs=-1, max_depth = 10)"
   ]
  },
  {
   "cell_type": "code",
   "execution_count": 13,
   "metadata": {},
   "outputs": [
    {
     "name": "stdout",
     "output_type": "stream",
     "text": [
      "0.4515703768531479 0.634087018384159\n"
     ]
    }
   ],
   "source": [
    "X_train = df_train[['T [°C]']]\n",
    "y_train = df_train[['NO3-N [mg/l]']]\n",
    "from sklearn.model_selection import cross_validate\n",
    "scores = cross_validate(rf, X_train, y_train, scoring=['neg_mean_squared_error','r2'], cv=5,n_jobs=-1)\n",
    "score = scores['test_neg_mean_squared_error'].mean()\n",
    "r2 = scores['test_r2'].mean()\n",
    "rmse = np.sqrt(abs(score))\n",
    "print(rmse, r2)"
   ]
  },
  {
   "cell_type": "code",
   "execution_count": 14,
   "metadata": {},
   "outputs": [
    {
     "name": "stdout",
     "output_type": "stream",
     "text": [
      "0.35062176764091424 0.7794145720789889\n"
     ]
    }
   ],
   "source": [
    "X_train = df_train[['O2 [mg/l]','T [°C]']]\n",
    "y_train = df_train[['NO3-N [mg/l]']]\n",
    "from sklearn.model_selection import cross_val_score\n",
    "scores = cross_validate(rf, X_train, y_train, scoring=['neg_mean_squared_error','r2'], cv=5,n_jobs=-1)\n",
    "score = scores['test_neg_mean_squared_error'].mean()\n",
    "r2 = scores['test_r2'].mean()\n",
    "rmse = np.sqrt(abs(score))\n",
    "print(rmse, r2)"
   ]
  },
  {
   "cell_type": "code",
   "execution_count": 15,
   "metadata": {},
   "outputs": [
    {
     "name": "stdout",
     "output_type": "stream",
     "text": [
      "0.22174211377876238 0.9117684056661727\n"
     ]
    }
   ],
   "source": [
    "X_train = df_train[['O2 [mg/l]','T [°C]','Abfluss [m³/s]']]\n",
    "y_train = df_train[['NO3-N [mg/l]']]\n",
    "\n",
    "from sklearn.model_selection import cross_val_score\n",
    "scores = cross_validate(rf, X_train, y_train, scoring=['neg_mean_squared_error','r2'], cv=5,n_jobs=-1)\n",
    "score = scores['test_neg_mean_squared_error'].mean()\n",
    "r2 = scores['test_r2'].mean()\n",
    "rmse = np.sqrt(abs(score))\n",
    "print(rmse, r2)"
   ]
  },
  {
   "cell_type": "code",
   "execution_count": 16,
   "metadata": {},
   "outputs": [
    {
     "name": "stdout",
     "output_type": "stream",
     "text": [
      "0.1591345036816952 0.9545633425649808\n"
     ]
    }
   ],
   "source": [
    "X_train = df_train[['O2 [mg/l]','T [°C]','Chlorophyll','Abfluss [m³/s]']]\n",
    "y_train = df_train[['NO3-N [mg/l]']]\n",
    "\n",
    "from sklearn.model_selection import cross_val_score\n",
    "scores = cross_validate(rf, X_train, y_train, scoring=['neg_mean_squared_error','r2'], cv=5,n_jobs=-1)\n",
    "score = scores['test_neg_mean_squared_error'].mean()\n",
    "r2 = scores['test_r2'].mean()\n",
    "rmse = np.sqrt(abs(score))\n",
    "print(rmse, r2)"
   ]
  },
  {
   "cell_type": "code",
   "execution_count": 17,
   "metadata": {},
   "outputs": [
    {
     "name": "stdout",
     "output_type": "stream",
     "text": [
      "0.13774445019900525 0.9659468147784164\n"
     ]
    }
   ],
   "source": [
    "X_train = df_train[['O2 [mg/l]','T [°C]','LF [µS/cm]','Chlorophyll','Abfluss [m³/s]']]\n",
    "y_train = df_train[['NO3-N [mg/l]']]\n",
    "\n",
    "from sklearn.model_selection import cross_val_score\n",
    "scores = cross_validate(rf, X_train, y_train, scoring=['neg_mean_squared_error','r2'], cv=5,n_jobs=-1)\n",
    "score = scores['test_neg_mean_squared_error'].mean()\n",
    "r2 = scores['test_r2'].mean()\n",
    "rmse = np.sqrt(abs(score))\n",
    "print(rmse, r2)"
   ]
  },
  {
   "cell_type": "code",
   "execution_count": 18,
   "metadata": {},
   "outputs": [
    {
     "name": "stdout",
     "output_type": "stream",
     "text": [
      "0.12196308759790252 0.9732944527541033\n"
     ]
    }
   ],
   "source": [
    "X_train = df_train[['O2 [mg/l]','T [°C]','LF [µS/cm]','pH [--]','Chlorophyll','Abfluss [m³/s]']]\n",
    "y_train = df_train[['NO3-N [mg/l]']]\n",
    "\n",
    "from sklearn.model_selection import cross_val_score\n",
    "scores = cross_validate(rf, X_train, y_train, scoring=['neg_mean_squared_error','r2'], cv=5,n_jobs=-1)\n",
    "score = scores['test_neg_mean_squared_error'].mean()\n",
    "r2 = scores['test_r2'].mean()\n",
    "rmse = np.sqrt(abs(score))\n",
    "print(rmse, r2)"
   ]
  },
  {
   "cell_type": "code",
   "execution_count": 12,
   "metadata": {},
   "outputs": [],
   "source": [
    "from sklearn.model_selection import GridSearchCV\n",
    "# Create the parameter grid  \n",
    "param_grid = {\n",
    "    'bootstrap': [True, False],\n",
    "    'max_depth': [10, 20, 30],\n",
    "    'min_samples_leaf': [6, 12, 20],\n",
    "    'min_samples_split': [6, 12, 20]\n",
    "}"
   ]
  },
  {
   "cell_type": "code",
   "execution_count": 13,
   "metadata": {},
   "outputs": [
    {
     "name": "stdout",
     "output_type": "stream",
     "text": [
      "Fitting 5 folds for each of 54 candidates, totalling 270 fits\n"
     ]
    },
    {
     "name": "stderr",
     "output_type": "stream",
     "text": [
      "[Parallel(n_jobs=-1)]: Using backend LokyBackend with 8 concurrent workers.\n",
      "[Parallel(n_jobs=-1)]: Done  25 tasks      | elapsed:  2.2min\n",
      "[Parallel(n_jobs=-1)]: Done 146 tasks      | elapsed: 14.7min\n",
      "[Parallel(n_jobs=-1)]: Done 270 out of 270 | elapsed: 31.2min finished\n"
     ]
    },
    {
     "data": {
      "text/plain": [
       "{'bootstrap': True,\n",
       " 'max_depth': 30,\n",
       " 'min_samples_leaf': 6,\n",
       " 'min_samples_split': 12}"
      ]
     },
     "execution_count": 13,
     "metadata": {},
     "output_type": "execute_result"
    }
   ],
   "source": [
    "from sklearn.model_selection import cross_validate\n",
    "from sklearn.ensemble import RandomForestRegressor\n",
    "forest = RandomForestRegressor(n_jobs=-1, max_depth = 10)\n",
    "# Instantiate the grid search model\n",
    "grid_search = GridSearchCV(estimator = forest, param_grid = param_grid, \n",
    "                          cv = 5, n_jobs = -1, verbose = 2)\n",
    "# Fit the grid search to the data\n",
    "grid_search.fit(X_train, y_train.values.ravel())\n",
    "grid_search.best_params_"
   ]
  },
  {
   "cell_type": "code",
   "execution_count": 14,
   "metadata": {},
   "outputs": [],
   "source": [
    "best_grid = grid_search.best_estimator_"
   ]
  },
  {
   "cell_type": "code",
   "execution_count": 15,
   "metadata": {},
   "outputs": [
    {
     "data": {
      "image/png": "[encoded data removed]",
      "text/plain": [
       "<Figure size 432x288 with 1 Axes>"
      ]
     },
     "metadata": {
      "needs_background": "light"
     },
     "output_type": "display_data"
    }
   ],
   "source": [
    "features=X_train.columns[[0,1,2,3,4,5]]\n",
    "importances = best_grid.feature_importances_\n",
    "indices = np.argsort(importances)\n",
    "\n",
    "plt.title('Feature Importances')\n",
    "plt.barh(range(len(indices)), importances[indices], color='b', align='center')\n",
    "plt.yticks(range(len(indices)), [features[i] for i in indices])\n",
    "plt.xlabel('Relative Importance')\n",
    "plt.show()"
   ]
  },
  {
   "cell_type": "code",
   "execution_count": 17,
   "metadata": {},
   "outputs": [
    {
     "name": "stdout",
     "output_type": "stream",
     "text": [
      "0.042860583235832986 0.9967051341529718\n"
     ]
    }
   ],
   "source": [
    "y_rf = best_grid.predict(X_test)\n",
    "\n",
    "from sklearn.metrics import r2_score\n",
    "from sklearn.metrics import mean_squared_error\n",
    "RMSE_rf=np.sqrt(mean_squared_error(y_test,y_rf))\n",
    "r2_rf = r2_score(y_test,y_rf)\n",
    "print(RMSE_rf,r2_rf)"
   ]
  },
  {
   "cell_type": "code",
   "execution_count": 28,
   "metadata": {},
   "outputs": [
    {
     "data": {
      "text/html": [
       "<div>\n",
       "<style scoped>\n",
       "    .dataframe tbody tr th:only-of-type {\n",
       "        vertical-align: middle;\n",
       "    }\n",
       "\n",
       "    .dataframe tbody tr th {\n",
       "        vertical-align: top;\n",
       "    }\n",
       "\n",
       "    .dataframe thead th {\n",
       "        text-align: right;\n",
       "    }\n",
       "</style>\n",
       "<table border=\"1\" class=\"dataframe\">\n",
       "  <thead>\n",
       "    <tr style=\"text-align: right;\">\n",
       "      <th></th>\n",
       "      <th>Observed</th>\n",
       "      <th>MLR Predicted</th>\n",
       "      <th>RF Predicted</th>\n",
       "    </tr>\n",
       "  </thead>\n",
       "  <tbody>\n",
       "    <tr>\n",
       "      <th>0</th>\n",
       "      <td>2.4</td>\n",
       "      <td>2.705187</td>\n",
       "      <td>2.383860</td>\n",
       "    </tr>\n",
       "    <tr>\n",
       "      <th>1</th>\n",
       "      <td>1.9</td>\n",
       "      <td>1.674305</td>\n",
       "      <td>1.878585</td>\n",
       "    </tr>\n",
       "    <tr>\n",
       "      <th>2</th>\n",
       "      <td>2.6</td>\n",
       "      <td>2.389225</td>\n",
       "      <td>2.564781</td>\n",
       "    </tr>\n",
       "    <tr>\n",
       "      <th>3</th>\n",
       "      <td>1.6</td>\n",
       "      <td>2.172092</td>\n",
       "      <td>1.600000</td>\n",
       "    </tr>\n",
       "    <tr>\n",
       "      <th>4</th>\n",
       "      <td>1.6</td>\n",
       "      <td>1.963215</td>\n",
       "      <td>1.564786</td>\n",
       "    </tr>\n",
       "    <tr>\n",
       "      <th>...</th>\n",
       "      <td>...</td>\n",
       "      <td>...</td>\n",
       "      <td>...</td>\n",
       "    </tr>\n",
       "    <tr>\n",
       "      <th>21851</th>\n",
       "      <td>2.0</td>\n",
       "      <td>1.735991</td>\n",
       "      <td>2.000000</td>\n",
       "    </tr>\n",
       "    <tr>\n",
       "      <th>21852</th>\n",
       "      <td>2.1</td>\n",
       "      <td>1.631524</td>\n",
       "      <td>2.085978</td>\n",
       "    </tr>\n",
       "    <tr>\n",
       "      <th>21853</th>\n",
       "      <td>1.4</td>\n",
       "      <td>1.850816</td>\n",
       "      <td>1.443621</td>\n",
       "    </tr>\n",
       "    <tr>\n",
       "      <th>21854</th>\n",
       "      <td>2.7</td>\n",
       "      <td>3.059132</td>\n",
       "      <td>2.713871</td>\n",
       "    </tr>\n",
       "    <tr>\n",
       "      <th>21855</th>\n",
       "      <td>1.7</td>\n",
       "      <td>1.780991</td>\n",
       "      <td>1.757902</td>\n",
       "    </tr>\n",
       "  </tbody>\n",
       "</table>\n",
       "<p>21856 rows × 3 columns</p>\n",
       "</div>"
      ],
      "text/plain": [
       "       Observed  MLR Predicted  RF Predicted\n",
       "0           2.4       2.705187      2.383860\n",
       "1           1.9       1.674305      1.878585\n",
       "2           2.6       2.389225      2.564781\n",
       "3           1.6       2.172092      1.600000\n",
       "4           1.6       1.963215      1.564786\n",
       "...         ...            ...           ...\n",
       "21851       2.0       1.735991      2.000000\n",
       "21852       2.1       1.631524      2.085978\n",
       "21853       1.4       1.850816      1.443621\n",
       "21854       2.7       3.059132      2.713871\n",
       "21855       1.7       1.780991      1.757902\n",
       "\n",
       "[21856 rows x 3 columns]"
      ]
     },
     "execution_count": 28,
     "metadata": {},
     "output_type": "execute_result"
    }
   ],
   "source": [
    "y_test = y_test.to_numpy()\n",
    "sub_df = pd.DataFrame({'Observed':y_test.ravel(),'MLR Predicted':y_LR.ravel(), 'RF Predicted':y_rf.ravel()})\n",
    "sub_df"
   ]
  },
  {
   "cell_type": "code",
   "execution_count": 23,
   "metadata": {},
   "outputs": [],
   "source": [
    "writer = pd.ExcelWriter('NO3-Pfelling.xlsx')\n",
    "sub_df.to_excel(writer)\n",
    "writer.save()"
   ]
  },
  {
   "cell_type": "code",
   "execution_count": 22,
   "metadata": {},
   "outputs": [
    {
     "data": {
      "text/plain": [
       "<matplotlib.legend.Legend at 0x1d3000aadf0>"
      ]
     },
     "execution_count": 22,
     "metadata": {},
     "output_type": "execute_result"
    },
    {
     "data": {
      "image/png": "[encoded data removed]",
      "text/plain": [
       "<Figure size 842.4x595.44 with 1 Axes>"
      ]
     },
     "metadata": {},
     "output_type": "display_data"
    }
   ],
   "source": [
    "sns.set(rc={'figure.figsize':(11.7,8.27)})\n",
    "sns.regplot(x=y_test, y=y_LR, data=sub_df, label='LR predicted')\n",
    "sns.regplot(x=y_test, y=y_rf, data=sub_df, label='RF predicted')\n",
    "plt.suptitle('Pfelling NO3')\n",
    "plt.xlabel('Observed')\n",
    "plt.ylabel('Predicted')\n",
    "plt.legend(title='Legend', loc='upper left')"
   ]
  },
  {
   "cell_type": "code",
   "execution_count": 29,
   "metadata": {},
   "outputs": [
    {
     "data": {
      "text/plain": [
       "Text(0.5, 0.98, 'Pfelling NO3')"
      ]
     },
     "execution_count": 29,
     "metadata": {},
     "output_type": "execute_result"
    },
    {
     "data": {
      "image/png": "[encoded data removed]",
      "text/plain": [
       "<Figure size 842.4x595.44 with 1 Axes>"
      ]
     },
     "metadata": {},
     "output_type": "display_data"
    }
   ],
   "source": [
    "sns.set(rc={'figure.figsize':(11.7,8.27)})\n",
    "sns.violinplot(data=sub_df)\n",
    "plt.suptitle('Pfelling NO3')"
   ]
  },
  {
   "cell_type": "code",
   "execution_count": 26,
   "metadata": {},
   "outputs": [
    {
     "name": "stdout",
     "output_type": "stream",
     "text": [
      "0.17359380368272292 0.01817217716120333\n"
     ]
    }
   ],
   "source": [
    "NRMSE_LR = RMSE/(sub_df['LR Predicted'].mean())\n",
    "NRMSE_rf = RMSE_rf/(sub_df['RF Predicted'].mean())\n",
    "print(NRMSE_LR,NRMSE_rf)"
   ]
  },
  {
   "cell_type": "code",
   "execution_count": null,
   "metadata": {},
   "outputs": [],
   "source": []
  }
 ],
 "metadata": {
  "kernelspec": {
   "display_name": "Python 3",
   "language": "python",
   "name": "python3"
  },
  "language_info": {
   "codemirror_mode": {
    "name": "ipython",
    "version": 3
   },
   "file_extension": ".py",
   "mimetype": "text/x-python",
   "name": "python",
   "nbconvert_exporter": "python",
   "pygments_lexer": "ipython3",
   "version": "3.8.5"
  }
 },
 "nbformat": 4,
 "nbformat_minor": 4
}
